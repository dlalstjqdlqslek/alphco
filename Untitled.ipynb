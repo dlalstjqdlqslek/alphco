{
 "cells": [
  {
   "cell_type": "code",
   "execution_count": null,
   "id": "ce30729f-68e5-4db7-8533-70b66c2d1d80",
   "metadata": {},
   "outputs": [],
   "source": [
    "x = 95\n",
    "if x >= 90:\n",
    "    print (\"pass\")\n"
   ]
  },
  {
   "cell_type": "code",
   "execution_count": null,
   "id": "3c4a6174-85ef-43ec-b495-0b640eb94dac",
   "metadata": {},
   "outputs": [],
   "source": [
    "x = int(input (\"숫자를 입력하시오.\"))\n",
    "if x >= 90:\n",
    "    print(\"pass\")\n",
    "else:\n",
    "    print(\"fail\")"
   ]
  },
  {
   "cell_type": "markdown",
   "id": "75370273-99d5-47f4-949f-b45d7971704c",
   "metadata": {},
   "source": [
    "## 여러 조건에 따른 분기"
   ]
  },
  {
   "cell_type": "code",
   "execution_count": null,
   "id": "b77a60e7-0a93-43e8-9e03-634180b5329b",
   "metadata": {},
   "outputs": [],
   "source": [
    "x = int(input (\"숫자를 입력하시오.\"))\n",
    "if x >= 90:\n",
    "    print(\"pass\")\n",
    "elif (x >= 80) and (x < 90):\n",
    "    print(\"조건부 합격\")\n",
    "else:\n",
    "    print(\"fail\")"
   ]
  },
  {
   "cell_type": "markdown",
   "id": "b70b7972-6280-4f16-8697-51a796ef0bc8",
   "metadata": {},
   "source": [
    "## 중첩 조건에 따른 분기\n",
    "- 시나리오\n",
    "-  90점 넘으면 합격, 그 중에서 100점자에는 장학금지급\n",
    "-  80점 이상은 조건부 합격\n",
    "-  그 외는 불합격"
   ]
  },
  {
   "cell_type": "code",
   "execution_count": null,
   "id": "7d928676-88fa-497a-a22e-ec3ed99cdd2e",
   "metadata": {},
   "outputs": [],
   "source": [
    "x = int(input (\"숫자를 입력하시오.\"))\n",
    "if x >= 90:\n",
    "    if x == 100:\n",
    "        print(\"장학금지급\")\n",
    "    else:\n",
    "        print(\"pass\")\n",
    "elif (x >= 80) and (x < 90):\n",
    "    print(\"조건부 합격\")\n",
    "else:\n",
    "    print(\"fail\")"
   ]
  },
  {
   "cell_type": "code",
   "execution_count": null,
   "id": "26b95124-da44-4702-a7d0-bbdacec0fa46",
   "metadata": {},
   "outputs": [],
   "source": [
    "# 파일명 : def my_calc(x, y):\n",
    "    z = x * y\n",
    "    return z\n",
    "\n",
    "my_calc(3, 4)\n"
   ]
  }
 ],
 "metadata": {
  "kernelspec": {
   "display_name": "Python 3 (ipykernel)",
   "language": "python",
   "name": "python3"
  },
  "language_info": {
   "codemirror_mode": {
    "name": "ipython",
    "version": 3
   },
   "file_extension": ".py",
   "mimetype": "text/x-python",
   "name": "python",
   "nbconvert_exporter": "python",
   "pygments_lexer": "ipython3",
   "version": "3.12.6"
  }
 },
 "nbformat": 4,
 "nbformat_minor": 5
}
