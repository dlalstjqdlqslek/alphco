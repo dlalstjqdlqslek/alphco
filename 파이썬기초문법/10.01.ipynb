{
 "cells": [
  {
   "cell_type": "code",
   "execution_count": 4,
   "id": "fc84aecc-40aa-4775-b29e-9c2d0e71ab21",
   "metadata": {},
   "outputs": [],
   "source": [
    "import pandas as pd\n",
    "from pandas import DataFrame\n",
    "import seaborn as sns\n",
    "import numpy as np"
   ]
  },
  {
   "cell_type": "code",
   "execution_count": 2,
   "id": "60e9521b-fd1c-4487-93a6-b24b5d27ba0c",
   "metadata": {},
   "outputs": [
    {
     "name": "stdout",
     "output_type": "stream",
     "text": [
      "2.2.3\n"
     ]
    }
   ],
   "source": [
    "print(pd.__version__)"
   ]
  },
  {
   "cell_type": "code",
   "execution_count": 23,
   "id": "8adb5ff3-b754-4e87-925c-63b966a871d6",
   "metadata": {},
   "outputs": [
    {
     "data": {
      "text/html": [
       "<div>\n",
       "<style scoped>\n",
       "    .dataframe tbody tr th:only-of-type {\n",
       "        vertical-align: middle;\n",
       "    }\n",
       "\n",
       "    .dataframe tbody tr th {\n",
       "        vertical-align: top;\n",
       "    }\n",
       "\n",
       "    .dataframe thead th {\n",
       "        text-align: right;\n",
       "    }\n",
       "</style>\n",
       "<table border=\"1\" class=\"dataframe\">\n",
       "  <thead>\n",
       "    <tr style=\"text-align: right;\">\n",
       "      <th></th>\n",
       "      <th>ACC_YEAR</th>\n",
       "      <th>SGG_CD</th>\n",
       "      <th>SGG_NM</th>\n",
       "      <th>BJDONG_CD</th>\n",
       "      <th>BJDONG_NM</th>\n",
       "      <th>LAND_GBN</th>\n",
       "      <th>LAND_GBN_NM</th>\n",
       "      <th>BONBEON</th>\n",
       "      <th>BUBEON</th>\n",
       "      <th>BLDG_NM</th>\n",
       "      <th>...</th>\n",
       "      <th>OBJ_AMT</th>\n",
       "      <th>BLDG_AREA</th>\n",
       "      <th>TOT_AREA</th>\n",
       "      <th>FLOOR</th>\n",
       "      <th>RIGHT_GBN</th>\n",
       "      <th>CNTL_YMD</th>\n",
       "      <th>BUILD_YEAR</th>\n",
       "      <th>HOUSE_TYPE</th>\n",
       "      <th>REQ_GBN</th>\n",
       "      <th>RDEALER_LAWDNM</th>\n",
       "    </tr>\n",
       "  </thead>\n",
       "  <tbody>\n",
       "    <tr>\n",
       "      <th>0</th>\n",
       "      <td>2023</td>\n",
       "      <td>11650</td>\n",
       "      <td>서초구</td>\n",
       "      <td>10800</td>\n",
       "      <td>서초동</td>\n",
       "      <td>1.0</td>\n",
       "      <td>대지</td>\n",
       "      <td>1328.0</td>\n",
       "      <td>11.0</td>\n",
       "      <td>대우도씨에빛2</td>\n",
       "      <td>...</td>\n",
       "      <td>38500</td>\n",
       "      <td>38.81</td>\n",
       "      <td>50.85</td>\n",
       "      <td>14.0</td>\n",
       "      <td>NaN</td>\n",
       "      <td>NaN</td>\n",
       "      <td>2005.0</td>\n",
       "      <td>오피스텔</td>\n",
       "      <td>중개거래</td>\n",
       "      <td>서울 서초구</td>\n",
       "    </tr>\n",
       "  </tbody>\n",
       "</table>\n",
       "<p>1 rows × 21 columns</p>\n",
       "</div>"
      ],
      "text/plain": [
       "   ACC_YEAR  SGG_CD SGG_NM  BJDONG_CD BJDONG_NM  LAND_GBN LAND_GBN_NM  \\\n",
       "0      2023   11650    서초구      10800       서초동       1.0          대지   \n",
       "\n",
       "   BONBEON  BUBEON  BLDG_NM  ...  OBJ_AMT  BLDG_AREA  TOT_AREA  FLOOR  \\\n",
       "0   1328.0    11.0  대우도씨에빛2  ...    38500      38.81     50.85   14.0   \n",
       "\n",
       "   RIGHT_GBN CNTL_YMD  BUILD_YEAR  HOUSE_TYPE REQ_GBN RDEALER_LAWDNM  \n",
       "0        NaN      NaN      2005.0        오피스텔    중개거래         서울 서초구  \n",
       "\n",
       "[1 rows x 21 columns]"
      ]
     },
     "execution_count": 23,
     "metadata": {},
     "output_type": "execute_result"
    }
   ],
   "source": [
    "df10101 = pd.read_csv(\"seoul_real_estate.csv\")\n",
    "df10101.head(1)"
   ]
  },
  {
   "cell_type": "code",
   "execution_count": 20,
   "id": "1a193330-ad96-4969-bf3b-08711ec5d9fb",
   "metadata": {},
   "outputs": [
    {
     "name": "stdout",
     "output_type": "stream",
     "text": [
      "<class 'pandas.core.frame.DataFrame'>\n",
      "RangeIndex: 3 entries, 0 to 2\n",
      "Data columns (total 3 columns):\n",
      " #   Column  Non-Null Count  Dtype \n",
      "---  ------  --------------  ----- \n",
      " 0   03/02   3 non-null      object\n",
      " 1   03/03   3 non-null      object\n",
      " 2   03/04   3 non-null      object\n",
      "dtypes: object(3)\n",
      "memory usage: 204.0+ bytes\n"
     ]
    }
   ],
   "source": [
    "import pandas as pd\n",
    "\n",
    "# 데이터프레임 생성\n",
    "data = [\n",
    "    [\"1000\", \"1,100\", '1,510'],\n",
    "    [\"1,410\", \"1,420\", '1,790'],\n",
    "    [\"850\", \"900\", '1,185'],\n",
    "]\n",
    "columns = [\"03/02\", \"03/03\", \"03/04\"]\n",
    "df = pd.DataFrame(data=data, columns=columns)\n",
    "df.info()"
   ]
  },
  {
   "cell_type": "markdown",
   "id": "16fc9b81-f36c-4c46-8b7f-f6872090b891",
   "metadata": {},
   "source": [
    "## 쉼표를 제거하고 int로 변환하는 함수 정의"
   ]
  },
  {
   "cell_type": "code",
   "execution_count": 10,
   "id": "25b41069-eef1-4439-888a-27f3a5ac2b0a",
   "metadata": {},
   "outputs": [
    {
     "data": {
      "text/plain": [
       "1000"
      ]
     },
     "execution_count": 10,
     "metadata": {},
     "output_type": "execute_result"
    }
   ],
   "source": [
    "# 연습할때 쉬운걸로\n",
    "x = \"1,000\"\n",
    "int(x.replace(\",\",\"\"))"
   ]
  },
  {
   "cell_type": "code",
   "execution_count": 17,
   "id": "5efbcdb6-4602-40f0-a1b3-0bb3a95c0de4",
   "metadata": {},
   "outputs": [
    {
     "name": "stdout",
     "output_type": "stream",
     "text": [
      "1000\n"
     ]
    }
   ],
   "source": [
    "def rm_comma(x):\n",
    "    return int(x.replace(\",\",\"\"))\n",
    "\n",
    "y = \"1,000\"\n",
    "print(rm_comma(y))"
   ]
  },
  {
   "cell_type": "code",
   "execution_count": null,
   "id": "e24af0ca-af82-4b9b-be9e-6cb9bab545ec",
   "metadata": {},
   "outputs": [],
   "source": []
  },
  {
   "cell_type": "code",
   "execution_count": 13,
   "id": "7c0a0f02-478a-40d9-b43a-fd478b4cc53a",
   "metadata": {},
   "outputs": [
    {
     "data": {
      "text/html": [
       "<div>\n",
       "<style scoped>\n",
       "    .dataframe tbody tr th:only-of-type {\n",
       "        vertical-align: middle;\n",
       "    }\n",
       "\n",
       "    .dataframe tbody tr th {\n",
       "        vertical-align: top;\n",
       "    }\n",
       "\n",
       "    .dataframe thead th {\n",
       "        text-align: right;\n",
       "    }\n",
       "</style>\n",
       "<table border=\"1\" class=\"dataframe\">\n",
       "  <thead>\n",
       "    <tr style=\"text-align: right;\">\n",
       "      <th></th>\n",
       "      <th>03/02</th>\n",
       "      <th>03/03</th>\n",
       "      <th>03/04</th>\n",
       "    </tr>\n",
       "  </thead>\n",
       "  <tbody>\n",
       "    <tr>\n",
       "      <th>0</th>\n",
       "      <td>1</td>\n",
       "      <td>1,100</td>\n",
       "      <td>1,510</td>\n",
       "    </tr>\n",
       "    <tr>\n",
       "      <th>1</th>\n",
       "      <td>1</td>\n",
       "      <td>1,420</td>\n",
       "      <td>1,790</td>\n",
       "    </tr>\n",
       "    <tr>\n",
       "      <th>2</th>\n",
       "      <td>1</td>\n",
       "      <td>900</td>\n",
       "      <td>1,185</td>\n",
       "    </tr>\n",
       "  </tbody>\n",
       "</table>\n",
       "</div>"
      ],
      "text/plain": [
       "   03/02  03/03  03/04\n",
       "0      1  1,100  1,510\n",
       "1      1  1,420  1,790\n",
       "2      1    900  1,185"
      ]
     },
     "execution_count": 13,
     "metadata": {},
     "output_type": "execute_result"
    }
   ],
   "source": [
    "df[\"03/02\"]=1 # 확인용\n",
    "df"
   ]
  },
  {
   "cell_type": "code",
   "execution_count": 21,
   "id": "85e79bb8-314b-4eda-ac32-8da0e703b7b1",
   "metadata": {},
   "outputs": [
    {
     "data": {
      "text/html": [
       "<div>\n",
       "<style scoped>\n",
       "    .dataframe tbody tr th:only-of-type {\n",
       "        vertical-align: middle;\n",
       "    }\n",
       "\n",
       "    .dataframe tbody tr th {\n",
       "        vertical-align: top;\n",
       "    }\n",
       "\n",
       "    .dataframe thead th {\n",
       "        text-align: right;\n",
       "    }\n",
       "</style>\n",
       "<table border=\"1\" class=\"dataframe\">\n",
       "  <thead>\n",
       "    <tr style=\"text-align: right;\">\n",
       "      <th></th>\n",
       "      <th>03/02</th>\n",
       "      <th>03/03</th>\n",
       "      <th>03/04</th>\n",
       "    </tr>\n",
       "  </thead>\n",
       "  <tbody>\n",
       "    <tr>\n",
       "      <th>0</th>\n",
       "      <td>1000</td>\n",
       "      <td>1100</td>\n",
       "      <td>1,510</td>\n",
       "    </tr>\n",
       "    <tr>\n",
       "      <th>1</th>\n",
       "      <td>1410</td>\n",
       "      <td>1420</td>\n",
       "      <td>1,790</td>\n",
       "    </tr>\n",
       "    <tr>\n",
       "      <th>2</th>\n",
       "      <td>850</td>\n",
       "      <td>900</td>\n",
       "      <td>1,185</td>\n",
       "    </tr>\n",
       "  </tbody>\n",
       "</table>\n",
       "</div>"
      ],
      "text/plain": [
       "   03/02  03/03  03/04\n",
       "0   1000   1100  1,510\n",
       "1   1410   1420  1,790\n",
       "2    850    900  1,185"
      ]
     },
     "execution_count": 21,
     "metadata": {},
     "output_type": "execute_result"
    }
   ],
   "source": [
    "df[\"03/02\"]= df[\"03/02\"].apply(rm_comma)\n",
    "df[\"03/03\"]= df[\"03/03\"].apply(rm_comma)\n",
    "df"
   ]
  },
  {
   "cell_type": "code",
   "execution_count": null,
   "id": "e3c8b730-22a2-4a66-8f4a-a9c5a0e052aa",
   "metadata": {},
   "outputs": [],
   "source": [
    "import pandas as pd\n",
    "\n",
    "# 데이터프레임 생성\n",
    "data = [\n",
    "    [\"1,000\", \"1,100\", '1,510'],\n",
    "    [\"1,410\", \"1,420\", '1,790'],\n",
    "    [\"850\", \"900\", '1,185'],\n",
    "]\n",
    "columns = [\"03/02\", \"03/03\", \"03/04\"]\n",
    "df = pd.DataFrame(data=data, columns=columns)\n",
    "df.info()"
   ]
  }
 ],
 "metadata": {
  "kernelspec": {
   "display_name": "Python 3 (ipykernel)",
   "language": "python",
   "name": "python3"
  },
  "language_info": {
   "codemirror_mode": {
    "name": "ipython",
    "version": 3
   },
   "file_extension": ".py",
   "mimetype": "text/x-python",
   "name": "python",
   "nbconvert_exporter": "python",
   "pygments_lexer": "ipython3",
   "version": "3.12.6"
  }
 },
 "nbformat": 4,
 "nbformat_minor": 5
}
