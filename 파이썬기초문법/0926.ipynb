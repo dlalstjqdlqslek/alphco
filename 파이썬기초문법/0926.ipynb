{
 "cells": [
  {
   "cell_type": "markdown",
   "id": "38c6891d-060a-4aa3-b7d3-2d8c812851bd",
   "metadata": {},
   "source": [
    "## 클래스선언(리마인드)"
   ]
  },
  {
   "cell_type": "code",
   "execution_count": 5,
   "id": "e2b14e3e-e4ac-47f2-8f39-1c81359b8fd5",
   "metadata": {},
   "outputs": [],
   "source": [
    "class Bicycle():\n",
    "    pass"
   ]
  },
  {
   "cell_type": "markdown",
   "id": "7b218eb5-4ced-40c3-92f7-c5d6c6efe330",
   "metadata": {},
   "source": [
    "## 객체 생성\n"
   ]
  },
  {
   "cell_type": "code",
   "execution_count": 7,
   "id": "ed35b464-26b1-42ac-9529-06be2f8f5c18",
   "metadata": {},
   "outputs": [
    {
     "data": {
      "text/plain": [
       "<__main__.Bicycle at 0x217ca8da300>"
      ]
     },
     "execution_count": 7,
     "metadata": {},
     "output_type": "execute_result"
    }
   ],
   "source": [
    "my_bicycle = Bicycle()\n",
    "my_bicycle"
   ]
  },
  {
   "cell_type": "code",
   "execution_count": 1,
   "id": "126c3640-9389-41ad-8f97-cf367700102b",
   "metadata": {},
   "outputs": [
    {
     "name": "stdout",
     "output_type": "stream",
     "text": [
      "책 01호\n",
      "title Streamlit author Evan pages 560 price 40000 discount 10\n",
      "책 02호\n",
      "title pandas author 성신 pages 400 price 30000 discount 20\n"
     ]
    }
   ],
   "source": [
    "class 책:\n",
    "    title = None\n",
    "    author = None\n",
    "    pages = 0\n",
    "    price = 0\n",
    "    discount = 0\n",
    "\n",
    "책01호 = 책()\n",
    "책01호.title = \"Streamlit\"\n",
    "책01호.author = \"Evan\"\n",
    "책01호.pages = 560\n",
    "책01호.price = 40000\n",
    "책01호.discount = 10\n",
    "\n",
    "print('책 01호')\n",
    "print('title', 책01호.title, 'author', 책01호.author, 'pages', 책01호.pages, 'price', 책01호.price, 'discount', 책01호.discount)\n",
    "\n",
    "책02호 = 책()\n",
    "책02호.title = \"pandas\"\n",
    "책02호.author = \"성신\"\n",
    "책02호.pages = 400\n",
    "책02호.price = 30000\n",
    "책02호.discount = 20\n",
    "\n",
    "print('책 02호')\n",
    "print('title', 책02호.title, 'author', 책02호.author, 'pages', 책02호.pages, 'price', 책02호.price, 'discount', 책02호.discount)"
   ]
  },
  {
   "cell_type": "markdown",
   "id": "1b7a8065-b4ff-4528-affe-0c7957a42e83",
   "metadata": {},
   "source": [
    "## 위에것은 활용도가 떨어짐"
   ]
  },
  {
   "cell_type": "markdown",
   "id": "522d95fb-b9cf-49e3-b1d5-e4cafb0d4b54",
   "metadata": {},
   "source": [
    "## init 함수 활용해서 클래스 만듦"
   ]
  },
  {
   "cell_type": "code",
   "execution_count": 13,
   "id": "7d354e14-8924-480c-8130-db56321e3128",
   "metadata": {},
   "outputs": [
    {
     "name": "stdout",
     "output_type": "stream",
     "text": [
      "26 black\n",
      "자전거 : 시속 50 킬러미터 전진\n"
     ]
    }
   ],
   "source": [
    "class Bicycle():\n",
    "    def __init__(self, wheel_size, color):\n",
    "        self.wheel_size = wheel_size\n",
    "        self.color = color\n",
    "        # 메서드\n",
    "    def move(self, speed):\n",
    "        print(f\"자전거 : 시속 {speed} 킬러미터 전진\")\n",
    "\n",
    "my_bicycle = Bicycle(26, 'black') # 객체 생성과 동시에 속성값을 지정.\n",
    "print(my_bicycle.wheel_size, my_bicycle.color)\n",
    "my_bicycle.move(50)"
   ]
  },
  {
   "cell_type": "markdown",
   "id": "229e8e82-a156-4b5b-aa55-e2435f0efdef",
   "metadata": {},
   "source": [
    "# 문제\n",
    "-\n",
    "-  person 클래스 만드세요\n",
    "-속성 : 이름(name) , 나이(age)\n",
    "-greet()메서드 어떻게 인사하는지?"
   ]
  },
  {
   "cell_type": "code",
   "execution_count": 24,
   "id": "36770629-0325-44bb-9b2d-f6a15a914981",
   "metadata": {},
   "outputs": [
    {
     "name": "stdout",
     "output_type": "stream",
     "text": [
      "안녕하세요 저는 이민섭이고 25살입니다\n"
     ]
    }
   ],
   "source": [
    "class person():\n",
    "    def __init__(self, name, age):\n",
    "        self.name = name\n",
    "        self.age = age\n",
    "\n",
    "    def greet(self):\n",
    "        print(f\"안녕하세요 저는 {self.name}이고 {self.age}살입니다\")\n",
    "\n",
    "\n",
    "evan = person (\"이민섭\", 25)\n",
    "evan.greet()\n"
   ]
  },
  {
   "cell_type": "code",
   "execution_count": 25,
   "id": "1866dd86-d1bd-424b-852a-259964cedfed",
   "metadata": {},
   "outputs": [
    {
     "name": "stdout",
     "output_type": "stream",
     "text": [
      "안녕하세요 저는 yuna이고 11살입니다\n"
     ]
    }
   ],
   "source": [
    "yuna = person(\"yuna\",11)\n",
    "yuna.greet()"
   ]
  },
  {
   "cell_type": "code",
   "execution_count": 31,
   "id": "49604140-f919-4faa-8d9f-e5ddda71eaa3",
   "metadata": {},
   "outputs": [
    {
     "name": "stdout",
     "output_type": "stream",
     "text": [
      "안녕하세요,나나님 저는 이민섭이고 25살입니다\n"
     ]
    }
   ],
   "source": [
    "class person():\n",
    "    def __init__(self, name, age):\n",
    "        self.name = name\n",
    "        self.age = age\n",
    "\n",
    "    def greet(self, other_name = \"친구\"):\n",
    "        print(f\"안녕하세요,{other_name}님 저는 {self.name}이고 {self.age}살입니다\")\n",
    "\n",
    "lee = person (\"이민섭\", 25)\n",
    "lee.greet(other_name = \"나나\")\n"
   ]
  },
  {
   "cell_type": "markdown",
   "id": "fd87cc1b-2aa5-410e-b439-1c9492467fa7",
   "metadata": {},
   "source": [
    "## 다양한 메서드 추가"
   ]
  },
  {
   "cell_type": "code",
   "execution_count": 35,
   "id": "70926675-e882-4a41-8971-197cb33fa307",
   "metadata": {},
   "outputs": [
    {
     "name": "stdout",
     "output_type": "stream",
     "text": [
      "자전거 : 시속 10 킬러미터 전진\n",
      "26,black의 특성을 가진 자전거님 정지하세요\n"
     ]
    }
   ],
   "source": [
    "class Bicycle():\n",
    "    def __init__(self, wheel_size, color):\n",
    "        self.wheel_size = wheel_size\n",
    "        self.color = color\n",
    "        # 메서드\n",
    "    def move(self, speed):\n",
    "        print(f\"자전거 : 시속 {speed} 킬러미터 전진\")\n",
    "\n",
    "    def stop(self):\n",
    "        print(f\"{self.wheel_size},{self.color}의 특성을 가진 자전거님 정지하세요\")\n",
    "\n",
    "my_bicycle = Bicycle(26,'black')\n",
    "my_bicycle.move(10)\n",
    "my_bicycle.stop()\n"
   ]
  },
  {
   "cell_type": "markdown",
   "id": "66ca6093-6e76-4bca-af68-4427ecc67734",
   "metadata": {},
   "source": [
    "- 클래스를 만든다고 할때, 클래스명 특성과 행동을 정의하는것이 핵심 포인트\n",
    "- 자전거 != 자동차"
   ]
  },
  {
   "cell_type": "markdown",
   "id": "8f399c19-aa5a-47eb-803a-ed5cc157482d",
   "metadata": {},
   "source": [
    "- 시각화를 그리려고 함 (버전 1.0대)\n",
    "  + 도면 클래스 : 다양한 속성과 함수들이 존재\n",
    "  + 그리기 도구 클래스 : 다양한 속성과 함수들이 존재\n",
    "  + 막대그래프 클래스따로 파이차트 클래스 따로 그려야함\n",
    "  + 3D그리기 클래스 (위화감이 별로 없을때만)\n",
    "\n",
    "각각의 클래스마다 정의를 내려야함\n",
    "\n",
    "- 3D 클래스 "
   ]
  },
  {
   "cell_type": "markdown",
   "id": "f749a630-6435-40e9-ad47-65e6d1167ca9",
   "metadata": {},
   "source": [
    "# 클래스에서 사용하는 변수"
   ]
  },
  {
   "cell_type": "code",
   "execution_count": 41,
   "id": "5adfef10-0d91-4169-b5ac-b5c9ae520e47",
   "metadata": {},
   "outputs": [],
   "source": [
    "class Car():\n",
    "\n",
    "    # 클래스 변수\n",
    "    instance_count = 0 # 클래스 변수 생성 및 초기화\n",
    "\n",
    "    def __init__(self, size, color):\n",
    "        self.size = size # 인스턴스 변수 생성 및 초기화\n",
    "        self.color = color # 인스턴스 변수 생성 및 초기화\n",
    "        Car.instance_count = Car.instance_count + 1 # 클래스 변수 이용 하는 방법\n",
    "        print(f\"자동차 객체의 수: {Car.instance_count}\")\n",
    "        \n",
    "    # 메서드\n",
    "    def move(self):\n",
    "        print(f\"자동차 {self.size}, {self.color}가 움직입니다.\")"
   ]
  },
  {
   "cell_type": "code",
   "execution_count": 49,
   "id": "eef92d59-aa6d-4728-974b-901dc72cbec2",
   "metadata": {},
   "outputs": [
    {
     "name": "stdout",
     "output_type": "stream",
     "text": [
      "자동차 객체의 수: 14\n",
      "자동차 객체의 수: 15\n"
     ]
    }
   ],
   "source": [
    "car1= Car('small','while')\n",
    "car2= Car('big','while')"
   ]
  },
  {
   "cell_type": "markdown",
   "id": "1a187ced-f33d-4475-ab73-7e145878a0ba",
   "metadata": {},
   "source": [
    "## 상속의 기본 형태"
   ]
  },
  {
   "cell_type": "markdown",
   "id": "47f37c1f-5a08-4255-a6ff-1ec517f643db",
   "metadata": {},
   "source": [
    "상속은 이런게 있다정도로만"
   ]
  },
  {
   "cell_type": "code",
   "execution_count": null,
   "id": "415bea37-9c30-4d43-bcb5-0465a1214f03",
   "metadata": {},
   "outputs": [],
   "source": [
    "class 상위클래스:\n",
    "    pass\n",
    "\n",
    "class 하위클래스(상위클래스):\n",
    "    pass\n",
    "    "
   ]
  },
  {
   "cell_type": "code",
   "execution_count": 53,
   "id": "4ac5a54f-9d9d-424c-b264-a536774dbb04",
   "metadata": {},
   "outputs": [],
   "source": [
    "class 동물:\n",
    "\n",
    "    name : \"\"\n",
    "\n",
    "    def 음식먹기(self):\n",
    "        print(\"저는 음식을 먹습니다\")\n",
    "\n"
   ]
  },
  {
   "cell_type": "code",
   "execution_count": 54,
   "id": "ce9863b4-4774-4002-ad38-5fd02d7690cf",
   "metadata": {},
   "outputs": [
    {
     "name": "stdout",
     "output_type": "stream",
     "text": [
      "저는 음식을 먹습니다\n"
     ]
    }
   ],
   "source": [
    "동물1=동물()\n",
    "동물1.음식먹기()"
   ]
  },
  {
   "cell_type": "code",
   "execution_count": 56,
   "id": "6355b2b7-c2aa-4c03-8785-c0b78bce9198",
   "metadata": {},
   "outputs": [],
   "source": [
    "class 강아지(동물):\n",
    "\n",
    "\n",
    "    def 자기소개(self):\n",
    "        print(f\"내 이름은 {self.name}입니다\")"
   ]
  },
  {
   "cell_type": "code",
   "execution_count": 60,
   "id": "ca08fbc5-aa14-4e48-aa4a-a28792c39a29",
   "metadata": {},
   "outputs": [
    {
     "name": "stdout",
     "output_type": "stream",
     "text": [
      "저는 음식을 먹습니다\n",
      "내 이름은 흰둥이입니다\n"
     ]
    }
   ],
   "source": [
    "강아지1 = 강아지()\n",
    "강아지1.name = \"흰둥이\"\n",
    "강아지1.음식먹기()\n",
    "강아지1.자기소개()"
   ]
  },
  {
   "cell_type": "markdown",
   "id": "fa5f6302-2f1c-4e40-acec-70bfd38479ae",
   "metadata": {},
   "source": [
    "## 다중상속"
   ]
  },
  {
   "cell_type": "code",
   "execution_count": null,
   "id": "4cfde778-2400-4e30-a5ee-d9e12aa626c0",
   "metadata": {},
   "outputs": [],
   "source": [
    "class 상위클래스1:\n",
    "    pass\n",
    "\n",
    "class 상위클래스2:\n",
    "    pass\n",
    "\n",
    "class 하위클래스(상위클래스1,상위클래스2):\n",
    "    pass"
   ]
  },
  {
   "cell_type": "code",
   "execution_count": 62,
   "id": "d2174095-64ee-4e17-b2c7-79506078e13c",
   "metadata": {},
   "outputs": [],
   "source": [
    "class 포유류:\n",
    "    def 포유류_정보(self):\n",
    "        print(\"포유류의 큰 특징은 새끼를 낳는다\")\n",
    "\n",
    "class 날개동물:\n",
    "    def 날개동물_정보(self):\n",
    "        print(\"날개를 가짐\")\n",
    "\n",
    "class 박쥐(포유류, 날개동물):\n",
    "    pass"
   ]
  },
  {
   "cell_type": "code",
   "execution_count": 63,
   "id": "4a8ca023-ff71-4e8a-98a9-1f68e4e62356",
   "metadata": {},
   "outputs": [
    {
     "name": "stdout",
     "output_type": "stream",
     "text": [
      "포유류의 큰 특징은 새끼를 낳는다\n"
     ]
    }
   ],
   "source": [
    "b1=박쥐()\n",
    "b1.포유류_정보()"
   ]
  },
  {
   "cell_type": "code",
   "execution_count": 64,
   "id": "a6a45f94-d234-4132-b562-92d2b7c2fb13",
   "metadata": {},
   "outputs": [
    {
     "name": "stdout",
     "output_type": "stream",
     "text": [
      "날개를 가짐\n"
     ]
    }
   ],
   "source": [
    "b1.날개동물_정보()"
   ]
  },
  {
   "cell_type": "code",
   "execution_count": 65,
   "id": "5709fbb9-f837-49b8-bcd3-27988d0cdceb",
   "metadata": {},
   "outputs": [
    {
     "data": {
      "text/plain": [
       "<__main__.박쥐 at 0x217ca8f5670>"
      ]
     },
     "execution_count": 65,
     "metadata": {},
     "output_type": "execute_result"
    }
   ],
   "source": [
    "b1"
   ]
  },
  {
   "cell_type": "markdown",
   "id": "b83d156f-4a38-4b3c-941b-fe945bc45ae9",
   "metadata": {},
   "source": [
    "\"\"\"\n",
    "- Car 클래스를 만들어보겠습니다. \n",
    "- Car 클래스는 `__init__`, `get_description`, `read_kilometer`, `update_kilometer`, `increment_kilometer`라는 메서드를 갖습니다.\n",
    "    + `__init__` 메서드는 클래스의 생성자로, 객체가 생성될 때 호출됩니다.\n",
    "- 속성 사용하기\n",
    "    + `self.make`, `self.model`, `self.year`, `self.kilometer_reading` 클래스의 속성입니다.\n",
    "    + 객체가 생성될 때 속성값이 초기화됩니다.\n",
    "\n",
    "- self의 의미\n",
    "    + self는 클래스의 인스턴스를 참조합니다. 클래스 내의 메서드가 객체의 속성에 접근하거나 다른 메서드를 호출할 때 사용합니다.\n",
    "    + self를 통해 클래스 내의 속성 및 메서드를 정의하고 접근할 수 있습니다.\n",
    "\n",
    "- 클래스의 위치 인수, 키워드 인수\n",
    "    + `__init__` 메서드의 make, model, year는 위치 인수로 전달됩니다.\n",
    "    + 메서드를 호출할 때 my_car.update_kilometer(kilometers=500)처럼 키워드 인수로 사용할 수도 있습니다.\n",
    "\"\"\""
   ]
  },
  {
   "cell_type": "markdown",
   "id": "7c5a1aa8-4a29-4ebe-b8ab-4975b080dce4",
   "metadata": {},
   "source": [
    "## 연습문제"
   ]
  },
  {
   "cell_type": "code",
   "execution_count": 76,
   "id": "d4a35a87-843d-4fae-8026-66d252418ce9",
   "metadata": {},
   "outputs": [],
   "source": [
    "class car():\n",
    "    def __init__(self,make,model,year,kilometer_reading):\n",
    "        self.make = make\n",
    "        self.model = model\n",
    "        self.year = year\n",
    "        self.kilometer_reading = 0\n",
    "      \n",
    "\n",
    "    def get_description(self):\n",
    "        print(f\"여기서 {make}만들어졌고 모델은{model}이고 연식은 {year}입니다\")\n",
    "\n",
    "    def read_kilometer(self):\n",
    "        print(f\"차의 주행거리는 {kilometer_reading}입니다\")\n",
    "   \n",
    "    def update_kilometer(self,kilo):\n",
    "        print(f\"주행거리를 {kilo}만큼 업데이트합니다\")\n",
    "        \n",
    "\n",
    "    def increment_kilometer(self):\n",
    "        print(f\"차의 주행거리가 {kilo}만큼 증가되었습니다\")\n",
    "\n",
    "lee=car(\"현대\", \"현다이\", 2024, 0)"
   ]
  },
  {
   "cell_type": "code",
   "execution_count": 116,
   "id": "f4d26618-0421-4bc9-ae81-a1958284eff1",
   "metadata": {},
   "outputs": [],
   "source": [
    "class Car:\n",
    "    \"\"\"\n",
    "    자동차 객체를 나타내는 클래스. 자동차의 제조사, 모델, 연도 및 주행 거리를 추적합니다.\n",
    "    \"\"\"\n",
    "    \n",
    "    def __init__(self, make: str, model: str, year: int) -> None:\n",
    "        \"\"\"\n",
    "        객체가 생성될 때 호출되며 속성을 초기화합니다.\n",
    "\n",
    "        Args:\n",
    "            make (str): 자동차 제조사\n",
    "            model (str): 자동차 모델\n",
    "            year (int): 제조 연도\n",
    "        \"\"\"\n",
    "        self.make = make  # 자동차 제조사\n",
    "        self.model = model  # 자동차 모델\n",
    "        self.year = year  # 제조 연도\n",
    "        self.kilometer_reading = 0  # 주행 거리 (초기값 0)\n",
    "\n",
    "    def get_description(self) -> str:\n",
    "        \"\"\"\n",
    "        자동차의 전체 설명을 반환합니다.\n",
    "\n",
    "        Returns:\n",
    "            str: 제조 연도, 제조사, 모델 정보를 포함한 문자열\n",
    "        \"\"\"\n",
    "        return f\"{self.year} {self.make} {self.model}\"\n",
    "\n",
    "    def read_kilometer(self) -> None:\n",
    "        \"\"\"\n",
    "        현재 주행 거리를 출력합니다.\n",
    "        \"\"\"\n",
    "        print(f\"이 자동차의 현재 주행 거리는 {self.kilometer_reading} 킬로미터입니다.\")\n",
    "\n",
    "    def update_kilometer(self, kilometers: int) -> None:\n",
    "        \"\"\"\n",
    "        주행 거리를 새로운 값으로 업데이트합니다.\n",
    "        새로운 값이 기존 값보다 클 경우에만 업데이트됩니다.\n",
    "\n",
    "        Args:\n",
    "            kilometers (int): 업데이트하려는 주행 거리 값\n",
    "        \"\"\"\n",
    "        if kilometers >= self.kilometer_reading:\n",
    "            self.kilometer_reading = kilometers\n",
    "            print(f\"업데이트 확인 : {self.kilometer_reading} 킬로미터\")\n",
    "        else:\n",
    "            print(f\"현재 : {self.kilometer_reading}, 다시 입력해주세용\")\n",
    "\n",
    "    def increment_kilometer(self, kilometers: int) -> None:\n",
    "        \"\"\"\n",
    "        주행 거리를 일정량 증가시킵니다.\n",
    "\n",
    "        Args:\n",
    "            kilometers (int): 증가시킬 주행 거리 값. 양수여야 함.\n",
    "        \"\"\"\n",
    "        if kilometers > 0:\n",
    "            self.kilometer_reading += kilometers\n",
    "        else:\n",
    "            print(\"음수가 입력되었습니다. 양수로 입력해주세요.\")"
   ]
  },
  {
   "cell_type": "code",
   "execution_count": 117,
   "id": "a46eb3a2-7992-4e83-a06b-85e00113ed41",
   "metadata": {},
   "outputs": [
    {
     "name": "stdout",
     "output_type": "stream",
     "text": [
      "\n",
      "    자동차 객체를 나타내는 클래스. 자동차의 제조사, 모델, 연도 및 주행 거리를 추적합니다.\n",
      "    \n"
     ]
    }
   ],
   "source": [
    "my_car = Car(\"현대\", \"아반떼\", 2024)\n",
    "print(my_car.__doc__)"
   ]
  },
  {
   "cell_type": "code",
   "execution_count": 118,
   "id": "d6491619-9d06-4461-9313-6a9d58cf386d",
   "metadata": {},
   "outputs": [
    {
     "name": "stdout",
     "output_type": "stream",
     "text": [
      "Help on Car in module __main__ object:\n",
      "\n",
      "class Car(builtins.object)\n",
      " |  Car(make: str, model: str, year: int) -> None\n",
      " |\n",
      " |  자동차 객체를 나타내는 클래스. 자동차의 제조사, 모델, 연도 및 주행 거리를 추적합니다.\n",
      " |\n",
      " |  Methods defined here:\n",
      " |\n",
      " |  __init__(self, make: str, model: str, year: int) -> None\n",
      " |      객체가 생성될 때 호출되며 속성을 초기화합니다.\n",
      " |\n",
      " |      Args:\n",
      " |          make (str): 자동차 제조사\n",
      " |          model (str): 자동차 모델\n",
      " |          year (int): 제조 연도\n",
      " |\n",
      " |  get_description(self) -> str\n",
      " |      자동차의 전체 설명을 반환합니다.\n",
      " |\n",
      " |      Returns:\n",
      " |          str: 제조 연도, 제조사, 모델 정보를 포함한 문자열\n",
      " |\n",
      " |  increment_kilometer(self, kilometers: int) -> None\n",
      " |      주행 거리를 일정량 증가시킵니다.\n",
      " |\n",
      " |      Args:\n",
      " |          kilometers (int): 증가시킬 주행 거리 값. 양수여야 함.\n",
      " |\n",
      " |  read_kilometer(self) -> None\n",
      " |      현재 주행 거리를 출력합니다.\n",
      " |\n",
      " |  update_kilometer(self, kilometers: int) -> None\n",
      " |      주행 거리를 새로운 값으로 업데이트합니다.\n",
      " |      새로운 값이 기존 값보다 클 경우에만 업데이트됩니다.\n",
      " |\n",
      " |      Args:\n",
      " |          kilometers (int): 업데이트하려는 주행 거리 값\n",
      " |\n",
      " |  ----------------------------------------------------------------------\n",
      " |  Data descriptors defined here:\n",
      " |\n",
      " |  __dict__\n",
      " |      dictionary for instance variables\n",
      " |\n",
      " |  __weakref__\n",
      " |      list of weak references to the object\n",
      "\n"
     ]
    }
   ],
   "source": [
    "help(my_car)"
   ]
  },
  {
   "cell_type": "markdown",
   "id": "9f4239af-5fe2-4e10-9b88-d88bc0b3b11f",
   "metadata": {},
   "source": [
    "- 클래스 실행"
   ]
  },
  {
   "cell_type": "code",
   "execution_count": 114,
   "id": "3bebb198-aea4-4a1a-ad79-2ef175cc87b1",
   "metadata": {},
   "outputs": [
    {
     "name": "stdout",
     "output_type": "stream",
     "text": [
      "2024 현대 아반떼\n",
      "이 자동차의 주행거리는 0입니다\n",
      "이 자동차의 주행거리는 200입니다\n"
     ]
    }
   ],
   "source": [
    "my_car = Car(\"현대\", \"아반떼\", 2024)\n",
    "description = my_car.get_description()\n",
    "print(description)\n",
    "my_car.read_kilometer()\n",
    "my_car.increment_kilometer(200)\n",
    "my_car.read_kilometer()"
   ]
  },
  {
   "cell_type": "markdown",
   "id": "2eae0c23-72b4-4374-9018-e0e776975d69",
   "metadata": {},
   "source": [
    "# 다형성(polymorphism)"
   ]
  },
  {
   "cell_type": "code",
   "execution_count": 122,
   "id": "52b7837b-0818-4323-b8c7-d8c9d42f242c",
   "metadata": {},
   "outputs": [],
   "source": [
    "#부모 클래스ㅂ\n",
    "class 동물:\n",
    "    def 울음소리(self):\n",
    "        return \"동물 울음소리\"\n",
    "#자식클래스\n",
    "class 강아지(동물):\n",
    "    def 울음소리(sefl):\n",
    "        return \"멍멍\"\n",
    "\n",
    "\n",
    "class 고양이(동물):\n",
    "    def 울음소리(self):\n",
    "        return \"야옹야옹\"\n",
    "        "
   ]
  },
  {
   "cell_type": "code",
   "execution_count": 124,
   "id": "9d6cd0bb-5311-42f0-add2-dc8a8302074a",
   "metadata": {},
   "outputs": [],
   "source": [
    "#다형성 함수\n",
    "def make_sound(animal):\n",
    "    print(animal.울음소리())"
   ]
  },
  {
   "cell_type": "code",
   "execution_count": 130,
   "id": "5b4721b4-0025-4eb6-9e7b-529973b77bb1",
   "metadata": {},
   "outputs": [],
   "source": [
    "#객체생성\n",
    "dog = 강아지()\n",
    "cat = 고양이()\n",
    "#dog.을음소리()\n",
    "#cat.울음소리()"
   ]
  },
  {
   "cell_type": "code",
   "execution_count": 127,
   "id": "d6e84a9c-b17c-4827-8db5-264bd9350ab5",
   "metadata": {},
   "outputs": [
    {
     "name": "stdout",
     "output_type": "stream",
     "text": [
      "야옹야옹\n"
     ]
    }
   ],
   "source": [
    "make_sound(cat)"
   ]
  },
  {
   "cell_type": "markdown",
   "id": "1d22a171-129f-4a50-9da7-4bdadc71a03a",
   "metadata": {},
   "source": [
    "# 메서드 오버라이딩\n"
   ]
  },
  {
   "cell_type": "code",
   "execution_count": 141,
   "id": "69a5a956-6209-41c1-9ef0-c9c3f83cfd78",
   "metadata": {},
   "outputs": [],
   "source": [
    "from math import pi\n",
    "\n",
    "# 상위 클래스 (모양)\n",
    "class Shape: \n",
    "    def __init__(self, name):\n",
    "        self.name = name\n",
    "\n",
    "    def area(self):\n",
    "        pass                 # 패스한 이유는 각각 하위클래스 내부에서 각각에 맞는 로직을 처리해주기 위함\n",
    "\n",
    "    def fact(self):\n",
    "        return \"나는 2차원 도형\"\n",
    "\n",
    "# 사각형 하위 클래스\n",
    "class Square(Shape):\n",
    "    def __init__(self, length):\n",
    "        super().__init__(\"Square\")    #초기값을 주면서 생성과 동시에 다이렉트로 입력해주기 위해서 씀 그러면 self.name이 자동으로 설정되는거임\n",
    "        self.length = length\n",
    "\n",
    "    def area(self):\n",
    "        return self.length ** 2\n",
    "    \n",
    "# 원 하위 클래스\n",
    "class Circle(Shape):\n",
    "    def __init__(self, radius):\n",
    "        super().__init__(\"Circle\")\n",
    "        self.radius = radius\n",
    "\n",
    "    def area(self):\n",
    "        return pi*self.radius**2\n",
    "\n",
    "#즉 자동으로 값을 주기위해서 슈퍼라를 거를 쓰는거임"
   ]
  },
  {
   "cell_type": "code",
   "execution_count": 136,
   "id": "f4b8114d-f39c-4755-87be-d2f51d415bf7",
   "metadata": {},
   "outputs": [
    {
     "name": "stdout",
     "output_type": "stream",
     "text": [
      "16\n"
     ]
    }
   ],
   "source": [
    "a = Square(4)\n",
    "print(a.area())"
   ]
  },
  {
   "cell_type": "code",
   "execution_count": null,
   "id": "13e4ac57-ffab-4547-ba6c-992fa189088c",
   "metadata": {},
   "outputs": [],
   "source": []
  },
  {
   "cell_type": "code",
   "execution_count": 140,
   "id": "88bc38d5-e2a8-4e64-b97c-ebe7ef1288a5",
   "metadata": {},
   "outputs": [
    {
     "name": "stdout",
     "output_type": "stream",
     "text": [
      "50.26548245743669\n"
     ]
    }
   ],
   "source": [
    "b= Circle(4)\n",
    "print(b.area())"
   ]
  },
  {
   "cell_type": "markdown",
   "id": "fa612559-8481-404a-b210-c2fe9d069c63",
   "metadata": {},
   "source": [
    "# 연산자 오버로딩\n",
    "- Operator Overloading"
   ]
  },
  {
   "cell_type": "code",
   "execution_count": 146,
   "id": "40d94893-0076-447d-97b5-67a5e50afeb8",
   "metadata": {},
   "outputs": [
    {
     "name": "stdout",
     "output_type": "stream",
     "text": [
      "4\n"
     ]
    }
   ],
   "source": [
    "a = 2\n",
    "b = 2\n",
    "c = a + b\n",
    "print(c)"
   ]
  },
  {
   "cell_type": "code",
   "execution_count": 147,
   "id": "18ae2064-7eeb-4d4a-9a3c-d03550ea667c",
   "metadata": {},
   "outputs": [
    {
     "name": "stdout",
     "output_type": "stream",
     "text": [
      "<class 'int'>\n"
     ]
    }
   ],
   "source": [
    "print(type(a))"
   ]
  },
  {
   "cell_type": "code",
   "execution_count": 145,
   "id": "e0401bf7-ba58-48df-b3ef-d25857defa69",
   "metadata": {},
   "outputs": [
    {
     "data": {
      "text/plain": [
       "4"
      ]
     },
     "execution_count": 145,
     "metadata": {},
     "output_type": "execute_result"
    }
   ],
   "source": [
    "d=a.__add__(b)\n",
    "d"
   ]
  },
  {
   "cell_type": "code",
   "execution_count": 149,
   "id": "8be4e6ef-da11-4b5c-9dab-0d6f67ea0fe4",
   "metadata": {},
   "outputs": [
    {
     "name": "stdout",
     "output_type": "stream",
     "text": [
      "5\n"
     ]
    }
   ],
   "source": [
    "class A:\n",
    "    def __init__(self, value):\n",
    "        self.value = value\n",
    "\n",
    "    #연산자 오버로딩\n",
    "    def __add__(self, other):\n",
    "        result = self.value + other.value\n",
    "        return A(result)  #이 연산자 오버로딩이 없으면 연산이 안됨\n",
    "\n",
    "\n",
    "a1 = A(2)\n",
    "a2 = A(3)\n",
    "\n",
    "a3 = a1 + a2\n",
    "print(a3.value)"
   ]
  },
  {
   "cell_type": "markdown",
   "id": "ec9df22f-e369-4171-8d3a-05490f09d669",
   "metadata": {},
   "source": [
    "문제\n",
    "# 예제 2. 책 관리 시스템\n",
    "- 여러분은 간단한 책 관리 시스템을 만들어야 합니다. Book 클래스를 사용하여 책의 정보를 저장하고, 책을 읽고, 현재 페이지를 업데이트하는 프로그램을 작성하세요.\n",
    "- 여러 Book 객체를 생성하고, 각 책에 대해 다음 작업을 수행하세요.\n",
    "    + 책의 설명을 출력하세요.\n",
    "    + 책을 읽고, 현재 페이지를 업데이트하고, 책 읽기 진행 상황을 출력하세요.\n",
    "    + 읽을 페이지 수가 전체 페이지 수를 초과할 경우, 오류 메시지를 출력하세요."
   ]
  },
  {
   "cell_type": "code",
   "execution_count": 164,
   "id": "92927b95-ff31-4657-9774-69be9c1be450",
   "metadata": {},
   "outputs": [],
   "source": [
    "class book:\n",
    "    def __init__(self,imformation, read):\n",
    "        self.imformation = imformation\n",
    "        self.read = read\n",
    "        self.pages= 0\n",
    "\n",
    "class book1(book):\n",
    "    def get_description(self):\n",
    "        print(f\"{self.lmformation}\")\n",
    "\n",
    "class book2(book):\n",
    "    def page(self):\n",
    "        if pages < 200:\n",
    "            print(f\"{self.read},{self.pages}읽고 있는 중입니다\")\n",
    "\n",
    "class book3(book):\n",
    "    def page(self):\n",
    "        if pages > 200:\n",
    "            print(f\"{self.pages} 다 읽었습니다\")\n",
    "\n"
   ]
  },
  {
   "cell_type": "code",
   "execution_count": 167,
   "id": "b8037cf8-82d7-4c1a-948e-34648c990478",
   "metadata": {
    "scrolled": true
   },
   "outputs": [
    {
     "ename": "TypeError",
     "evalue": "book.__init__() missing 1 required positional argument: 'read'",
     "output_type": "error",
     "traceback": [
      "\u001b[1;31m--------------------------------------------------------------------------\u001b[0m",
      "\u001b[1;31mTypeError\u001b[0m                                Traceback (most recent call last)",
      "Cell \u001b[1;32mIn[167], line 1\u001b[0m\n\u001b[1;32m----> 1\u001b[0m books\u001b[38;5;241m=\u001b[39m \u001b[43mbook\u001b[49m\u001b[43m(\u001b[49m\u001b[38;5;241;43m140\u001b[39;49m\u001b[43m)\u001b[49m\n\u001b[0;32m      2\u001b[0m books\u001b[38;5;241m.\u001b[39mpage()\n",
      "\u001b[1;31mTypeError\u001b[0m: book.__init__() missing 1 required positional argument: 'read'"
     ]
    }
   ],
   "source": [
    "books= book(140)\n",
    "books.page()"
   ]
  },
  {
   "cell_type": "code",
   "execution_count": 173,
   "id": "46dfab42-cfc2-4a0c-b289-0fcfed568140",
   "metadata": {},
   "outputs": [
    {
     "data": {
      "text/plain": [
       "\"'A' (저자: evan, 총 300페이지)\""
      ]
     },
     "execution_count": 173,
     "metadata": {},
     "output_type": "execute_result"
    }
   ],
   "source": [
    "class Book:\n",
    "    def __init__(self, title, author, pages):\n",
    "        self.title = title\n",
    "        self.author = author\n",
    "        self.pages = pages\n",
    "        self.current_page = 0\n",
    "\n",
    "    def get_description(self):\n",
    "        return f\"'{self.title}' (저자: {self.author}, 총 {self.pages}페이지)\"\n",
    "        \n",
    "    def read(self, pages):\n",
    "        if self.current_page + pages <= self.pages:\n",
    "            self.current_page += pages\n",
    "            print(f\"{pages}페이지를 읽었습니다. 현재 {self.current_page}페이지에 있습니다.\")\n",
    "        else:\n",
    "            print(f\"책의 총 페이지 수를 초과할 수 없습니다!\")\n",
    "\n",
    "    def book_progress(self):\n",
    "        print(f\"이 책은 총 {self.pages}페이지이며, 현재 {self.current_page}페이지를 읽었습니다.\")\n",
    "\n",
    "book1 = Book('A', 'evan', 300)\n",
    "book1.get_description()"
   ]
  },
  {
   "cell_type": "code",
   "execution_count": 169,
   "id": "c1caa570-ff6c-4784-b297-232ade6ae021",
   "metadata": {},
   "outputs": [
    {
     "data": {
      "text/plain": [
       "\"'a' (저자: evan, 총 300페이지)\""
      ]
     },
     "execution_count": 169,
     "metadata": {},
     "output_type": "execute_result"
    }
   ],
   "source": [
    "book1 = Book(\"a\",'evan',300)\n",
    "book1.get_description()"
   ]
  },
  {
   "cell_type": "code",
   "execution_count": 174,
   "id": "2aa49392-b312-4dcf-98d3-3588df5709fd",
   "metadata": {},
   "outputs": [],
   "source": [
    "# 여러 책 인스턴스 생성\n",
    "book1 = Book('오만과 편견', '제인 오스틴', 279)\n",
    "book2 = Book('앵무새 죽이기', '하퍼 리', 281)\n",
    "book3 = Book('위대한 개츠비', 'F. 스콧 피츠제럴드', 180)"
   ]
  },
  {
   "cell_type": "code",
   "execution_count": 175,
   "id": "2f78fd46-e679-43d7-8f24-06645c631a01",
   "metadata": {},
   "outputs": [
    {
     "name": "stdout",
     "output_type": "stream",
     "text": [
      "'오만과 편견' (저자: 제인 오스틴, 총 279페이지)\n",
      "'앵무새 죽이기' (저자: 하퍼 리, 총 281페이지)\n",
      "'위대한 개츠비' (저자: F. 스콧 피츠제럴드, 총 180페이지)\n",
      "50페이지를 읽었습니다. 현재 50페이지에 있습니다.\n",
      "이 책은 총 279페이지이며, 현재 50페이지를 읽었습니다.\n",
      "30페이지를 읽었습니다. 현재 30페이지에 있습니다.\n",
      "이 책은 총 281페이지이며, 현재 30페이지를 읽었습니다.\n",
      "100페이지를 읽었습니다. 현재 100페이지에 있습니다.\n",
      "이 책은 총 180페이지이며, 현재 100페이지를 읽었습니다.\n",
      "책의 총 페이지 수를 초과할 수 없습니다!\n",
      "이 책은 총 279페이지이며, 현재 50페이지를 읽었습니다.\n"
     ]
    }
   ],
   "source": [
    "# 책 정보 출력\n",
    "print(book1.get_description())\n",
    "print(book2.get_description())\n",
    "print(book3.get_description())\n",
    "\n",
    "# 책 읽기\n",
    "book1.read(50)\n",
    "book1.book_progress()\n",
    "\n",
    "book2.read(30)\n",
    "book2.book_progress()\n",
    "\n",
    "book3.read(100)\n",
    "book3.book_progress()\n",
    "\n",
    "# 페이지 초과 시도\n",
    "book1.read(250)\n",
    "book1.book_progress()"
   ]
  },
  {
   "cell_type": "markdown",
   "id": "737ca764-f81f-4f52-8d3b-0c2f3dae3005",
   "metadata": {},
   "source": [
    "## 요구사항\n",
    "- `Spaceship` 클래스를 정의하세요.\n",
    "- 속성\n",
    "    + `color (str):` 우주선의 색상\n",
    "    + `speed (int):` 우주선의 속도\n",
    "    + `passengers (int):` 우주선의 탑승 인원 수\n",
    "- 메서드\n",
    "    + `__init__(self, color: str, speed: int, passengers: int):` 색상, 속도, 탑승 인원 수를 초기화합니다.\n",
    "    + `get_color(self) -> str:` 색상을 반환합니다.\n",
    "    + `set_color(self, color: str):` 색상을 설정합니다.\n",
    "    + `get_speed(self) -> int:` 속도를 반환합니다.\n",
    "    + `set_speed(self, speed: int):` 속도를 설정합니다.\n",
    "    + `get_passengers(self) -> int:` 탑승 인원 수를 반환합니다.\n",
    "    + `set_passengers(self, passengers: int):` 탑승 인원 수를 설정합니다.\n",
    "    + `add_passenger(self):` 탑승 인원 수를 N명 추가합니다.\n",
    "    + `remove_passenger(self):` 탑승 인원 수를 N명 감소시킵니다. 탑승 인원 수가 0명 이하로 내려갈 수 없습니다.\n",
    "    + `increase_speed(self, amount: int):` 속도를 amount만큼 증가시킵니다.\n",
    "    + `decrease_speed(self, amount: int):` 속도를 amount만큼 감소시킵니다. 속도가 0 이하로 내려갈 수 없습니다.\n",
    "    + `get_info(self) -> str:` 현재 우주선의 상태 정보를 반환합니다.\n",
    "\n",
    "## 시뮬레이션 테스트\n",
    "- 시뮬레이션 프로그램을 작성하세요.\n",
    "    + 사용자는 다음 작업을 선택할 수 있습니다:\n",
    "    + 우주선의 색상을 설정합니다.\n",
    "    + 속도를 증가시킵니다.\n",
    "    + 속도를 감소시킵니다.\n",
    "    + 탑승 인원 수를 N명 추가합니다.\n",
    "    + 탑승 인원 수를 N명 감소합니다.\n",
    "    + 시뮬레이션을 종료합니다.\n",
    "    "
   ]
  },
  {
   "cell_type": "code",
   "execution_count": null,
   "id": "da005ba0-3c75-4e9f-a0d5-a6340157a932",
   "metadata": {},
   "outputs": [],
   "source": [
    "class spaceship:\n",
    "    def __init__ (self, color : str, speed : int , passengers : int):\n",
    "        self.color = color\n",
    "        self.speed = 0\n",
    "        self.passengers = 0\n",
    "\n",
    "class set_color(self, color : str):\n",
    "    return f\"{color}색상을 설정합니다\"\n",
    "\n",
    "class increase_speed(self, speed : int):\n",
    "    return f\"{speed}속도를 증가시킵니다\"\n",
    "\n",
    "class decrease_speed(self, speed : int):\n",
    "    return f\"{speed}속도를 감소시킵니다\"\n",
    "\n",
    "\n",
    "class set_passenger(self, passenger : int):\n",
    "    return f\"{passenger}탑승 인원 수를 설정합니다\"\n",
    "\n",
    "class add_passenger(self):\n",
    "    return f\n"
   ]
  },
  {
   "cell_type": "code",
   "execution_count": 180,
   "id": "815eca3a-8647-47c6-bf4a-3410b8139fbd",
   "metadata": {},
   "outputs": [
    {
     "ename": "UnboundLocalError",
     "evalue": "cannot access local variable 'spaceship' where it is not associated with a value",
     "output_type": "error",
     "traceback": [
      "\u001b[1;31m--------------------------------------------------------------------------\u001b[0m",
      "\u001b[1;31mUnboundLocalError\u001b[0m                        Traceback (most recent call last)",
      "Cell \u001b[1;32mIn[180], line 48\u001b[0m\n\u001b[0;32m     45\u001b[0m             \u001b[38;5;28mprint\u001b[39m(\u001b[38;5;124m\"\u001b[39m\u001b[38;5;124m잘못된 선택입니다. 1에서 6 사이의 숫자를 입력하세요.\u001b[39m\u001b[38;5;124m\"\u001b[39m)\n\u001b[0;32m     47\u001b[0m \u001b[38;5;66;03m# 시뮬레이션 실행\u001b[39;00m\n\u001b[1;32m---> 48\u001b[0m \u001b[43msimulate_spaceship\u001b[49m\u001b[43m(\u001b[49m\u001b[43m)\u001b[49m\n",
      "Cell \u001b[1;32mIn[180], line 2\u001b[0m, in \u001b[0;36msimulate_spaceship\u001b[1;34m()\u001b[0m\n\u001b[0;32m      1\u001b[0m \u001b[38;5;28;01mdef\u001b[39;00m \u001b[38;5;21msimulate_spaceship\u001b[39m():\n\u001b[1;32m----> 2\u001b[0m     spaceship \u001b[38;5;241m=\u001b[39m \u001b[43mspaceship\u001b[49m(\u001b[38;5;124m\"\u001b[39m\u001b[38;5;124mcolor\u001b[39m\u001b[38;5;124m\"\u001b[39m, \u001b[38;5;241m10000\u001b[39m, \u001b[38;5;241m5\u001b[39m)\n\u001b[0;32m      4\u001b[0m     \u001b[38;5;28;01mwhile\u001b[39;00m \u001b[38;5;28;01mTrue\u001b[39;00m:\n\u001b[0;32m      5\u001b[0m         \u001b[38;5;28mprint\u001b[39m(\u001b[38;5;124m\"\u001b[39m\u001b[38;5;130;01m\\n\u001b[39;00m\u001b[38;5;124m현재 우주선 상태:\u001b[39m\u001b[38;5;124m\"\u001b[39m)\n",
      "\u001b[1;31mUnboundLocalError\u001b[0m: cannot access local variable 'spaceship' where it is not associated with a value"
     ]
    }
   ],
   "source": [
    "def simulate_spaceship():\n",
    "    spaceship = spaceship(\"Red\", 10000, 5)\n",
    "    \n",
    "    while True:\n",
    "        print(\"\\n현재 우주선 상태:\")\n",
    "        print(spaceship.get_info())\n",
    "        \n",
    "        print(\"\\n무엇을 하시겠습니까?\")\n",
    "        print(\"1. 색상 설정\")\n",
    "        print(\"2. 속도 증가\")\n",
    "        print(\"3. 속도 감소\")\n",
    "        print(\"4. 탑승인원 추가\")\n",
    "        print(\"5. 탑승인원 하차\")\n",
    "        print(\"6. 시뮬레이션 종료\")\n",
    "        \n",
    "        choice = input(\"선택을 입력하세요 (1-6): \")\n",
    "\n",
    "        if choice == '1':\n",
    "            color = input(\"새 색상을 입력하세요: \")\n",
    "            spaceship.set_color(color)\n",
    "            print(f\"색상이 {color}(으)로 변경되었습니다\")\n",
    "        \n",
    "        elif choice == '2':\n",
    "            amount = int(input(\"속도를 얼마나 증가시키겠습니까?: \"))\n",
    "            spaceship.increase_speed(amount)\n",
    "            print(f\"속도가 {amount}(으)로 추가되었습니다\")\n",
    "        \n",
    "        elif choice == '3':\n",
    "            amount = int(input(\"속도를 얼마나 감소시키겠습니까?: \"))\n",
    "            spaceship.decrease_speed(amount)\n",
    "        \n",
    "        elif choice == '4':\n",
    "            number = int(input(\"추가할 탑승인원 수를 입력하세요: \"))\n",
    "            spaceship.add_passenger(number)\n",
    "        \n",
    "        elif choice == '5':\n",
    "            number = int(input(\"하차할 탑승인원 수를 입력하세요: \"))\n",
    "            spaceship.remove_passenger(number)\n",
    "        \n",
    "        elif choice == '6':\n",
    "            print(\"시뮬레이션을 종료합니다.\")\n",
    "            break\n",
    "        \n",
    "        else:\n",
    "            print(\"잘못된 선택입니다. 1에서 6 사이의 숫자를 입력하세요.\")\n",
    "\n",
    "# 시뮬레이션 실행\n",
    "simulate_spaceship()"
   ]
  }
 ],
 "metadata": {
  "kernelspec": {
   "display_name": "Python 3 (ipykernel)",
   "language": "python",
   "name": "python3"
  },
  "language_info": {
   "codemirror_mode": {
    "name": "ipython",
    "version": 3
   },
   "file_extension": ".py",
   "mimetype": "text/x-python",
   "name": "python",
   "nbconvert_exporter": "python",
   "pygments_lexer": "ipython3",
   "version": "3.12.6"
  }
 },
 "nbformat": 4,
 "nbformat_minor": 5
}
