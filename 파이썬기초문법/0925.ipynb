{
 "cells": [
  {
   "cell_type": "code",
   "execution_count": 6,
   "id": "1c330987-dd2a-461c-b4f7-41972036451e",
   "metadata": {},
   "outputs": [
    {
     "name": "stdout",
     "output_type": "stream",
     "text": [
      "pass\n"
     ]
    }
   ],
   "source": [
    "x = 95\n",
    "if x >= 90:\n",
    "    print (\"pass\")\n"
   ]
  },
  {
   "cell_type": "code",
   "execution_count": 5,
   "id": "dbe90bfb-3503-43b4-9c2f-e06e702ef28c",
   "metadata": {},
   "outputs": [
    {
     "name": "stdin",
     "output_type": "stream",
     "text": [
      "숫자를 입력하시오. 50\n"
     ]
    },
    {
     "name": "stdout",
     "output_type": "stream",
     "text": [
      "fail\n"
     ]
    }
   ],
   "source": [
    "x = int(input (\"숫자를 입력하시오.\"))\n",
    "if x >= 90:\n",
    "    print(\"pass\")\n",
    "else:\n",
    "    print(\"fail\")"
   ]
  },
  {
   "cell_type": "markdown",
   "id": "689e6eab-e5f5-4a6b-8ecf-a54d1f78ace8",
   "metadata": {},
   "source": [
    "## 여러 조건에 따른 분기"
   ]
  },
  {
   "cell_type": "code",
   "execution_count": 4,
   "id": "58cf0341-3f14-4a90-aaa6-3d5192f73e6e",
   "metadata": {},
   "outputs": [
    {
     "name": "stdin",
     "output_type": "stream",
     "text": [
      "숫자를 입력하시오. 90\n"
     ]
    },
    {
     "name": "stdout",
     "output_type": "stream",
     "text": [
      "pass\n"
     ]
    }
   ],
   "source": [
    "x = int(input (\"숫자를 입력하시오.\"))\n",
    "if x >= 90:\n",
    "    print(\"pass\")\n",
    "elif (x >= 80) and (x < 90):\n",
    "    print(\"조건부 합격\")\n",
    "else:\n",
    "    print(\"fail\")"
   ]
  },
  {
   "cell_type": "markdown",
   "id": "edfb73ee-5747-4664-9dd1-afa729a2ab70",
   "metadata": {},
   "source": [
    "## 중첩 조건에 따른 분기\n",
    "- 시나리오\n",
    "-  90점 넘으면 합격, 그 중에서 100점자에는 장학금지급\n",
    "-  80점 이상은 조건부 합격\n",
    "-  그 외는 불합격"
   ]
  },
  {
   "cell_type": "code",
   "execution_count": 3,
   "id": "d62d9493-f9c1-4df5-a1f4-9fa77912e657",
   "metadata": {},
   "outputs": [
    {
     "name": "stdin",
     "output_type": "stream",
     "text": [
      "숫자를 입력하시오. 50\n"
     ]
    },
    {
     "name": "stdout",
     "output_type": "stream",
     "text": [
      "fail\n"
     ]
    }
   ],
   "source": [
    "x = int(input (\"숫자를 입력하시오.\"))\n",
    "if x >= 90:\n",
    "    if x == 100:\n",
    "        print(\"장학금지급\")\n",
    "    else:\n",
    "        print(\"pass\")\n",
    "elif (x >= 80) and (x < 90):\n",
    "    print(\"조건부 합격\")\n",
    "else:\n",
    "    print(\"fail\")"
   ]
  },
  {
   "cell_type": "markdown",
   "id": "ee0f4497-83d4-4e3c-91ba-113943ebd4d6",
   "metadata": {},
   "source": [
    "## 반복문"
   ]
  },
  {
   "cell_type": "code",
   "execution_count": 2,
   "id": "d71e5dbd-392a-4693-b35b-4776797be0be",
   "metadata": {},
   "outputs": [
    {
     "name": "stdout",
     "output_type": "stream",
     "text": [
      "안녕하세요\n",
      "안녕하세요\n",
      "안녕하세요\n"
     ]
    }
   ],
   "source": [
    "for i in range(3):\n",
    "    print(\"안녕하세요\")"
   ]
  },
  {
   "cell_type": "markdown",
   "id": "5860f758-fb6a-4d6e-9d06-8bb4557e4e4a",
   "metadata": {},
   "source": [
    "# 시퀀스 자료형이 range대신에 들어감"
   ]
  },
  {
   "cell_type": "code",
   "execution_count": 7,
   "id": "6545b26f-f1ac-490d-b2fe-f7f6e04835b2",
   "metadata": {},
   "outputs": [
    {
     "name": "stdout",
     "output_type": "stream",
     "text": [
      "False\n",
      "True\n",
      "True\n"
     ]
    }
   ],
   "source": [
    "from collections.abc import Sequence\n",
    "\n",
    "my_num = 100\n",
    "my_list = [1, 2, 3]\n",
    "my_string = \"hello\"\n",
    "\n",
    "is_num = isinstance(my_num, Sequence)\n",
    "is_list = isinstance(my_list, Sequence)\n",
    "is_string = isinstance(my_string, Sequence)\n",
    "\n",
    "print(is_num)\n",
    "print(is_list)\n",
    "print(is_string)\n",
    "\n"
   ]
  },
  {
   "cell_type": "code",
   "execution_count": 10,
   "id": "51050dcb-2680-4275-86ab-b18aa42a6c6c",
   "metadata": {},
   "outputs": [
    {
     "name": "stdout",
     "output_type": "stream",
     "text": [
      "1\n",
      "2\n",
      "3\n"
     ]
    }
   ],
   "source": [
    "for i in my_list:\n",
    "    print (i)"
   ]
  },
  {
   "cell_type": "code",
   "execution_count": 9,
   "id": "6a3218d5-316b-49d4-93db-9e4c9f330096",
   "metadata": {},
   "outputs": [
    {
     "name": "stdout",
     "output_type": "stream",
     "text": [
      "h\n",
      "e\n",
      "l\n",
      "l\n",
      "o\n"
     ]
    }
   ],
   "source": [
    "for i in my_string:\n",
    "    print (i)"
   ]
  },
  {
   "cell_type": "code",
   "execution_count": 11,
   "id": "ceb018e5-d35e-4fc3-b6a3-27c4cbbd2a75",
   "metadata": {},
   "outputs": [
    {
     "data": {
      "text/plain": [
       "[0, 1, 2]"
      ]
     },
     "execution_count": 11,
     "metadata": {},
     "output_type": "execute_result"
    }
   ],
   "source": [
    "list(range(3))"
   ]
  },
  {
   "cell_type": "markdown",
   "id": "005a4211-d7bc-40b8-94e5-dc8fa42072b1",
   "metadata": {},
   "source": [
    "## 중첩 for문\n",
    "- 구구단 중첩 for문 gpt요청 모르겠으면"
   ]
  },
  {
   "cell_type": "code",
   "execution_count": 16,
   "id": "88c28c17-f9bd-4d85-ae0c-c23e4a390ed1",
   "metadata": {},
   "outputs": [
    {
     "name": "stdout",
     "output_type": "stream",
     "text": [
      "x y\n",
      "x1\n",
      "x1 y1\n",
      "x1 y2\n",
      "y 반복문 종료\n",
      "x2\n",
      "x2 y1\n",
      "x2 y2\n",
      "y 반복문 종료\n"
     ]
    }
   ],
   "source": [
    "x_list = [\"x1\",\"x2\"]\n",
    "y_list = [\"y1\",\"y2\"]\n",
    "\n",
    "print(\"x y\")\n",
    "for x in x_list:\n",
    "    print(x)\n",
    "    for y in y_list:\n",
    "        print(x,y)\n",
    "    print(\"y 반복문 종료\")\n"
   ]
  },
  {
   "cell_type": "markdown",
   "id": "4a0366e8-d711-4d54-af89-38b5bd61ff4d",
   "metadata": {},
   "source": [
    "## 여러개의 리스트 다루기"
   ]
  },
  {
   "cell_type": "code",
   "execution_count": 20,
   "id": "39f9b168-fd03-479d-90fc-f6eddcfd4b5b",
   "metadata": {},
   "outputs": [
    {
     "name": "stdout",
     "output_type": "stream",
     "text": [
      "James 95\n"
     ]
    }
   ],
   "source": [
    "names = ['James', 'Robert', 'Lisa', 'Mary']\n",
    "scores = [95, 96, 97, 94]\n",
    "\n",
    "print(names[0],scores[0])"
   ]
  },
  {
   "cell_type": "code",
   "execution_count": 21,
   "id": "14dc1c03-a137-4735-9306-2187a0f0f2ea",
   "metadata": {},
   "outputs": [
    {
     "name": "stdout",
     "output_type": "stream",
     "text": [
      "James 95\n",
      "Robert 96\n",
      "Lisa 97\n",
      "Mary 94\n"
     ]
    }
   ],
   "source": [
    "names = ['James', 'Robert', 'Lisa', 'Mary']\n",
    "scores = [95, 96, 97, 94]\n",
    "\n",
    "# idx : index 번호를 의미\n",
    "for idx in range(len(names)):\n",
    "    # print(idx)\n",
    "    print(names[idx],scores[idx])"
   ]
  },
  {
   "cell_type": "markdown",
   "id": "010f589c-882b-4b2f-810c-32e361b0396f",
   "metadata": {},
   "source": [
    "names = ['James', 'Robert', 'Lisa', 'Mary']\n",
    "scores = [95, 96, 97, 94]\n",
    "\n",
    "zip 사용\n",
    "for name, score in zip(names, scores):\n",
    "    print(name, score) \n",
    "\n",
    "enumerate사용\n",
    "for idx, name in enumerate(names):\n",
    "    print(name, scores[idx])\n",
    "\n",
    "mpa 사용\n",
    "for name, score in map(lambda x, y: (x, y), names, scores):\n",
    "    print(name, score)\n",
    "\n",
    "    이렇게 방법이 여러가지가 있다"
   ]
  },
  {
   "cell_type": "markdown",
   "id": "206080b0-9ec0-4716-9222-871364a1f107",
   "metadata": {},
   "source": [
    "## 리스트 컴프리헨션"
   ]
  },
  {
   "cell_type": "code",
   "execution_count": 29,
   "id": "d8012f05-be48-44e2-a8d2-3d161eb3a81a",
   "metadata": {},
   "outputs": [
    {
     "name": "stdout",
     "output_type": "stream",
     "text": [
      "[2, 4, 6, 8, 10]\n"
     ]
    }
   ],
   "source": [
    "numbers = [1, 2, 3, 4, 5]\n",
    "result = []\n",
    "for x in numbers:\n",
    "    #각 요소마다 곱하기 2\n",
    "    #print(x*2) 먼저 프린트로 결과값 확인 후 어팬드 쓰기\n",
    "    result.append(x*2)\n",
    "print (result)"
   ]
  },
  {
   "cell_type": "code",
   "execution_count": 51,
   "id": "087778c0-7f6d-4c86-a263-4e84c1f69e93",
   "metadata": {},
   "outputs": [
    {
     "name": "stdout",
     "output_type": "stream",
     "text": [
      "[2, 4, 6, 8, 10]\n"
     ]
    }
   ],
   "source": [
    "numbers = [1, 2, 3, 4, 5]\n",
    "result = [x * 2 for x in numbers]\n",
    "print(result)"
   ]
  },
  {
   "cell_type": "code",
   "execution_count": null,
   "id": "2af77285-ee93-4d1b-baa5-c4b4af0eb67e",
   "metadata": {},
   "outputs": [],
   "source": [
    "numbers = [1, 2, 3, 4, 5, 6]\n",
    "result = []\n",
    "for x in numbers:\n",
    "    if x % 2 ==0:\n",
    "        result.append(x)\n",
    "result"
   ]
  },
  {
   "cell_type": "code",
   "execution_count": null,
   "id": "7324ea76-fbdc-4a5f-82fe-9c04fdb96f27",
   "metadata": {},
   "outputs": [],
   "source": [
    "#짝수만 출력\n",
    "numbers = [1, 2, 3, 4, 5, 6]\n",
    "result2 = [x for x in numbers if x % 2 == 0]\n",
    "print(result2)"
   ]
  },
  {
   "cell_type": "markdown",
   "id": "b71d545d-d7b4-4eee-8f43-c068c56de756",
   "metadata": {},
   "source": [
    "## while 반복문\n",
    "- 가볍게만 진행\n",
    "- 조건문이 참일때만 반복해서 실행\n",
    "- 데이터 분석 : 데이터셋이 정해져 있음\n",
    "  +행과 열이 고정이 되어 있음\n",
    "  +범위가 주어진 상태\n",
    "  따라서 데이터 분석에서는 잘 안쓰기 때문에 가볍게만 진행\n"
   ]
  },
  {
   "cell_type": "code",
   "execution_count": null,
   "id": "db9893dd-b169-48bd-8cda-4d57da8bbf66",
   "metadata": {},
   "outputs": [],
   "source": [
    "i = 0\n",
    "total = 0\n",
    "\n",
    "while (total < 20):\n",
    "    i = i + 1\n",
    "    total + total + i\n",
    "    print (i, total)"
   ]
  },
  {
   "cell_type": "code",
   "execution_count": 54,
   "id": "7dbf12a4-49bc-4453-b62f-74a3483dce15",
   "metadata": {},
   "outputs": [
    {
     "name": "stdout",
     "output_type": "stream",
     "text": [
      "안녕하세요\n",
      "안녕하세요\n",
      "안녕하세요\n",
      "안녕하세요\n",
      "4\n"
     ]
    }
   ],
   "source": [
    "k = 0\n",
    "while True:\n",
    "    k = k + 1\n",
    "    print(\"안녕하세요\")\n",
    "    if (k > 3):\n",
    "        print(k)\n",
    "        break"
   ]
  },
  {
   "cell_type": "markdown",
   "id": "c6e05539-fc6d-4d02-9990-dc7a53037c98",
   "metadata": {},
   "source": [
    "## 사용자 정의 함수 \n",
    "- 반복되는 거를 안하기 위함"
   ]
  },
  {
   "cell_type": "code",
   "execution_count": 59,
   "id": "90bc7691-498b-4ded-b94d-01362e458f40",
   "metadata": {},
   "outputs": [],
   "source": [
    "def my_1st_func():\n",
    "    print(\"안녕하세요\")\n",
    "    print(\"반갑습니다\")"
   ]
  },
  {
   "cell_type": "code",
   "execution_count": 61,
   "id": "b16fc6da-7389-4c40-9ed7-4a30c5ae79c2",
   "metadata": {},
   "outputs": [
    {
     "name": "stdout",
     "output_type": "stream",
     "text": [
      "안녕하세요\n",
      "반갑습니다\n"
     ]
    }
   ],
   "source": [
    "my_1st_func()"
   ]
  },
  {
   "cell_type": "markdown",
   "id": "055ecce2-ae17-4a13-9d85-4a23880d96bd",
   "metadata": {},
   "source": [
    "## 문제"
   ]
  },
  {
   "cell_type": "markdown",
   "id": "1346e10f-5786-4aed-ab22-ec1bcc12beb1",
   "metadata": {},
   "source": [
    "# 문제 1. \n",
    "- 변수 a에 정수 10을, 변수 b에 실수 5.5를 할당하고, 두 변수를 더한 결과의 데이터 타입을 출력하세요."
   ]
  },
  {
   "cell_type": "code",
   "execution_count": 64,
   "id": "6c565e5a-61e1-45fc-bb0b-0fdfeec7a447",
   "metadata": {},
   "outputs": [
    {
     "name": "stdout",
     "output_type": "stream",
     "text": [
      "<class 'float'>\n"
     ]
    }
   ],
   "source": [
    "a = 10\n",
    "b = 5.5\n",
    "print (type(a+b))"
   ]
  },
  {
   "cell_type": "markdown",
   "id": "4208080a-f8c1-4a33-8f8b-cac46464a758",
   "metadata": {
    "jp-MarkdownHeadingCollapsed": true
   },
   "source": [
    "# 문제 2\n",
    "- 문자열 \"100\"과 정수 50을 더하려고 할 때 발생하는 오류를 설명하고, 이를 해결하는 방법을 보여주세요.\n",
    "- 문자와 정수는 서로 합이 안되기 때문에 오류가 발생하고"
   ]
  },
  {
   "cell_type": "code",
   "execution_count": 118,
   "id": "56eaa097-c7a0-4609-8940-93a1e152b555",
   "metadata": {},
   "outputs": [
    {
     "name": "stdout",
     "output_type": "stream",
     "text": [
      "150\n"
     ]
    }
   ],
   "source": [
    "a = \"100\"\n",
    "\n",
    "print (int(a) + 50)"
   ]
  },
  {
   "cell_type": "markdown",
   "id": "ee694f32-173d-4a8c-875e-93f3fdd7bea9",
   "metadata": {},
   "source": [
    "# 문제 3. \n",
    "- 리스트 [1, 2, 3]와 튜플 (4, 5, 6)을 더할 수 있는지 확인하고, 가능하다면 결과를 출력하세요."
   ]
  },
  {
   "cell_type": "code",
   "execution_count": 83,
   "id": "6cd3edd1-3a86-46d6-ae49-a0051c2efa25",
   "metadata": {},
   "outputs": [
    {
     "data": {
      "text/plain": [
       "[1, 2, 3, 4, 5, 6]"
      ]
     },
     "execution_count": 83,
     "metadata": {},
     "output_type": "execute_result"
    }
   ],
   "source": [
    "numbers = [1, 2, 3]\n",
    "numbers.extend([4, 5, 6])\n",
    "numbers"
   ]
  },
  {
   "cell_type": "markdown",
   "id": "3a9c2810-8859-4337-be45-82dff7a90441",
   "metadata": {},
   "source": [
    "# 문제 4. \n",
    "- 변수 x에 None을 할당하고, 이를 다른 데이터 타입으로 변환할 수 있는지 확인하세요.\n",
    "- "
   ]
  },
  {
   "cell_type": "code",
   "execution_count": 122,
   "id": "c1d042e7-6879-4f06-aabe-65ad08d5a6f7",
   "metadata": {},
   "outputs": [
    {
     "name": "stdout",
     "output_type": "stream",
     "text": [
      "<class 'NoneType'>\n"
     ]
    }
   ],
   "source": [
    "x = None\n",
    "print (type(x))"
   ]
  },
  {
   "cell_type": "markdown",
   "id": "6c12596a-9f8a-4391-be09-664b98ca4d67",
   "metadata": {},
   "source": [
    "# 문제 5. \n",
    "- 변수 a에 정수 3을 할당하고, 이를 부동 소수점 숫자 3.0으로 자동 변환하도록 하세요."
   ]
  },
  {
   "cell_type": "code",
   "execution_count": 97,
   "id": "41420551-0c60-4144-b1eb-36f2fc7ef385",
   "metadata": {},
   "outputs": [
    {
     "data": {
      "text/plain": [
       "3.0"
      ]
     },
     "execution_count": 97,
     "metadata": {},
     "output_type": "execute_result"
    }
   ],
   "source": [
    "a = 3\n",
    "float(a)"
   ]
  },
  {
   "cell_type": "markdown",
   "id": "926f1756-b03c-4de7-9365-7b82364c519b",
   "metadata": {},
   "source": [
    "# 문제 6. \n",
    "- 변수 s에 문자열 \"Hello\"를 할당하고, 이를 3번 반복한 결과의 데이터 타입을 확인하세요."
   ]
  },
  {
   "cell_type": "code",
   "execution_count": 117,
   "id": "bdb17762-1257-4fae-858a-fdedc747a936",
   "metadata": {},
   "outputs": [
    {
     "name": "stdout",
     "output_type": "stream",
     "text": [
      "Hello\n",
      "Hello\n",
      "Hello\n"
     ]
    }
   ],
   "source": [
    "for s in range(3):\n",
    "    s = \"Hello\"\n",
    "    print(s)"
   ]
  },
  {
   "cell_type": "markdown",
   "id": "a36c182f-705a-4943-b18f-c7c2d6eb29b4",
   "metadata": {},
   "source": [
    "# 문제 7. \n",
    "- 변수 x에 정수 7을 할당하고, 이를 문자열로 변환한 후 문자열 \"3\"과 더해보세요."
   ]
  },
  {
   "cell_type": "code",
   "execution_count": 116,
   "id": "594ea890-20aa-46e4-8666-2cb62763d36b",
   "metadata": {},
   "outputs": [
    {
     "ename": "AttributeError",
     "evalue": "'int' object has no attribute 'replace'",
     "output_type": "error",
     "traceback": [
      "\u001b[1;31m---------------------------------------------------------------------------\u001b[0m",
      "\u001b[1;31mAttributeError\u001b[0m                            Traceback (most recent call last)",
      "Cell \u001b[1;32mIn[116], line 2\u001b[0m\n\u001b[0;32m      1\u001b[0m x \u001b[38;5;241m=\u001b[39m \u001b[38;5;241m7\u001b[39m\n\u001b[1;32m----> 2\u001b[0m result \u001b[38;5;241m=\u001b[39m \u001b[43mx\u001b[49m\u001b[38;5;241;43m.\u001b[39;49m\u001b[43mreplace\u001b[49m(\u001b[38;5;241m7\u001b[39m,\u001b[38;5;124m\"\u001b[39m\u001b[38;5;124m3\u001b[39m\u001b[38;5;124m\"\u001b[39m)\n\u001b[0;32m      3\u001b[0m \u001b[38;5;28mprint\u001b[39m(result)\n",
      "\u001b[1;31mAttributeError\u001b[0m: 'int' object has no attribute 'replace'"
     ]
    }
   ],
   "source": [
    "x = 7\n",
    "result = x.replace()\n",
    "print(result)"
   ]
  },
  {
   "cell_type": "markdown",
   "id": "9991e932-8ff2-48b7-90c7-84cd25432bbe",
   "metadata": {},
   "source": [
    "## 인자(인수)는 있으나 반환 값이 없는 함수"
   ]
  },
  {
   "cell_type": "code",
   "execution_count": 136,
   "id": "c0818b77-6c95-4cd2-ae59-c4fd094042ef",
   "metadata": {},
   "outputs": [
    {
     "name": "stdout",
     "output_type": "stream",
     "text": [
      "철수은 나의 친구입니다\n",
      "철수는 나의 친구입니다\n",
      "길동은 나의 친구입니다\n",
      "길동는 나의 친구입니다\n"
     ]
    }
   ],
   "source": [
    "def my_friend(name):\n",
    "    print(f\"{name}은 나의 친구입니다\")\n",
    "    print(\"{}는 나의 친구입니다\".format(name))\n",
    "\n",
    "my_friend(\"철수\")\n",
    "my_friend(\"길동\")"
   ]
  },
  {
   "cell_type": "code",
   "execution_count": 137,
   "id": "d916b022-44bc-49d9-9440-0b024fdc175b",
   "metadata": {},
   "outputs": [
    {
     "name": "stdout",
     "output_type": "stream",
     "text": [
      "영희은 나의 친구입니다\n",
      "영희는 나의 친구입니다\n"
     ]
    }
   ],
   "source": [
    "my_friend(\"영희\")"
   ]
  },
  {
   "cell_type": "markdown",
   "id": "744217cc-8d94-4a39-ad96-18271e783e95",
   "metadata": {},
   "source": [
    "## 인자(인수)는 있으나 반환 값이 \n",
    "-코드 문서화 필수"
   ]
  },
  {
   "cell_type": "code",
   "execution_count": 141,
   "id": "13283887-3587-403e-8a20-36a80b47b982",
   "metadata": {},
   "outputs": [
    {
     "data": {
      "text/plain": [
       "12"
      ]
     },
     "execution_count": 141,
     "metadata": {},
     "output_type": "execute_result"
    }
   ],
   "source": [
    "def my_calc(x, y):\n",
    "    z = x * y\n",
    "    return z\n",
    "\n",
    "my_calc(3, 4)"
   ]
  },
  {
   "cell_type": "markdown",
   "id": "1feb37d9-3232-46bd-82bf-e2ae53f27163",
   "metadata": {},
   "source": [
    "## 변수의 유효 범위\n",
    "-키워드 : 전역변수 , 지역 변수"
   ]
  },
  {
   "cell_type": "code",
   "execution_count": 153,
   "id": "bec43e6b-8f93-4977-a4b9-9ce9b9812daa",
   "metadata": {},
   "outputs": [],
   "source": [
    "a = 5\n",
    "def func1():\n",
    "    a = 1\n",
    "    print(\"[func1]지역변수 a = \",a)\n",
    "def func2():\n",
    "    a = 2\n",
    "    print(\"[func2]지역변수 a = \",a)    \n",
    "def func3():\n",
    "    print(\"[func3]지역변수 a = \",a)    \n",
    "def func4():\n",
    "    global a #함수 내에서 전역변수 변경을 위해 선언\n",
    "    a =4\n",
    "    print(\"[func4]전역변수 a=\",a)"
   ]
  },
  {
   "cell_type": "code",
   "execution_count": 150,
   "id": "38171029-e96a-48d0-a8fa-81a22aca7427",
   "metadata": {},
   "outputs": [
    {
     "name": "stdout",
     "output_type": "stream",
     "text": [
      "[func1]지역변수 a =  1\n",
      "[func2]지역변수 a =  2\n",
      "[func3]지역변수 a =  5\n"
     ]
    }
   ],
   "source": [
    "func1()\n",
    "func2()\n",
    "func3()"
   ]
  },
  {
   "cell_type": "code",
   "execution_count": 151,
   "id": "9cf466f4-e5ca-4c70-83a2-2a97620d65e5",
   "metadata": {},
   "outputs": [
    {
     "name": "stdout",
     "output_type": "stream",
     "text": [
      "[func1]지역변수 a =  1\n",
      "[func2]지역변수 a =  2\n",
      "전역변수 a= 5\n"
     ]
    }
   ],
   "source": [
    "func1()\n",
    "func2()\n",
    "print(\"전역변수 a=\",a)"
   ]
  },
  {
   "cell_type": "code",
   "execution_count": 154,
   "id": "a5dd13ad-7556-4cd2-9744-b3b922e0c745",
   "metadata": {},
   "outputs": [
    {
     "name": "stdout",
     "output_type": "stream",
     "text": [
      "[func3]지역변수 a =  5\n",
      "[func4]전역변수 a= 4\n",
      "[func3]지역변수 a =  4\n"
     ]
    }
   ],
   "source": [
    "func3()\n",
    "func4()\n",
    "func3()"
   ]
  },
  {
   "cell_type": "code",
   "execution_count": 172,
   "id": "a1399925-df22-4af1-8335-ef005c090455",
   "metadata": {},
   "outputs": [
    {
     "ename": "UnboundLocalError",
     "evalue": "cannot access local variable 'c' where it is not associated with a value",
     "output_type": "error",
     "traceback": [
      "\u001b[1;31m---------------------------------------------------------------------------\u001b[0m",
      "\u001b[1;31mUnboundLocalError\u001b[0m                         Traceback (most recent call last)",
      "Cell \u001b[1;32mIn[172], line 5\u001b[0m\n\u001b[0;32m      3\u001b[0m     c \u001b[38;5;241m=\u001b[39m c \u001b[38;5;241m+\u001b[39m \u001b[38;5;241m2\u001b[39m\n\u001b[0;32m      4\u001b[0m     \u001b[38;5;28mprint\u001b[39m (c)\n\u001b[1;32m----> 5\u001b[0m \u001b[43madd\u001b[49m\u001b[43m(\u001b[49m\u001b[43m)\u001b[49m\n",
      "Cell \u001b[1;32mIn[172], line 3\u001b[0m, in \u001b[0;36madd\u001b[1;34m()\u001b[0m\n\u001b[0;32m      2\u001b[0m \u001b[38;5;28;01mdef\u001b[39;00m \u001b[38;5;21madd\u001b[39m():\n\u001b[1;32m----> 3\u001b[0m     c \u001b[38;5;241m=\u001b[39m \u001b[43mc\u001b[49m \u001b[38;5;241m+\u001b[39m \u001b[38;5;241m2\u001b[39m\n\u001b[0;32m      4\u001b[0m     \u001b[38;5;28mprint\u001b[39m (c)\n",
      "\u001b[1;31mUnboundLocalError\u001b[0m: cannot access local variable 'c' where it is not associated with a value"
     ]
    }
   ],
   "source": [
    "c= 1\n",
    "def add():\n",
    "    c = c + 2\n",
    "    print (c)\n",
    "add()"
   ]
  },
  {
   "cell_type": "markdown",
   "id": "275ef255-7c85-43ab-849e-185c5864282e",
   "metadata": {},
   "source": [
    "## 가변인수 예제\n",
    "- 학생의 정수를 입력받아 평균 점수를 계산하는 함수\n",
    "  + 문제점 : 각 학생들마다 시험 본 과목수가 다 다름\n",
    "    -a : 3과목\n",
    "    -b : 2과목\n",
    "    -c : 5과목"
   ]
  },
  {
   "cell_type": "code",
   "execution_count": 163,
   "id": "de8a37bc-8bc5-4266-835e-2668926d8509",
   "metadata": {},
   "outputs": [],
   "source": [
    "def calculate_average(name, *scores): #*scores 가변인수임\n",
    "    if scores:  # 가변 인수가 비어있지 않은지 확인 타입 튜플\n",
    "        average_score = sum(scores) / len(scores)\n",
    "        print(f\"{name}의 평균 점수는 {average_score:.2f}점입니다.\")\n",
    "    else:\n",
    "        print(f\"{name}의 점수를 입력하지 않았습니다.\")"
   ]
  },
  {
   "cell_type": "code",
   "execution_count": 173,
   "id": "4b4d24a5-2853-4043-b041-f474684728c3",
   "metadata": {},
   "outputs": [],
   "source": [
    "def calculate_average(name, *scores):\n",
    "    print(type(scores))\n",
    "    if scores:  # 가변 인수가 비어있지 않은지 확인\n",
    "        average_score = sum(scores) / len(scores)\n",
    "        print(f\"{name}의 평균 점수는 {average_score:.2f}점입니다.\")\n",
    "    else:\n",
    "        print(f\"{name}의 점수를 입력하지 않았습니다.\")"
   ]
  },
  {
   "cell_type": "code",
   "execution_count": null,
   "id": "050542f5-493d-4b46-93c5-16984aa7e815",
   "metadata": {},
   "outputs": [],
   "source": [
    "def calculate_average(name, scores):\n",
    "    if len(scores) > 0:  # 가변 인수가 비어있지 않은지 확인\n",
    "        average_score = sum(scores) / len(scores)\n",
    "        print(f\"{name}의 평균 점수는 {average_score:.2f}점입니다.\")\n",
    "    else:\n",
    "        print(f\"{name}의 점수를 입력하지 않았습니다.\")"
   ]
  },
  {
   "cell_type": "code",
   "execution_count": 174,
   "id": "e32e48cd-895a-4577-aad5-046be456285c",
   "metadata": {},
   "outputs": [
    {
     "name": "stdout",
     "output_type": "stream",
     "text": [
      "<class 'tuple'>\n",
      "evan의 평균 점수는 61.67점입니다.\n"
     ]
    }
   ],
   "source": [
    "calculate_average(\"evan\", 85, 40, 60)"
   ]
  },
  {
   "cell_type": "code",
   "execution_count": 167,
   "id": "c9a7b83b-b537-4450-8e8a-b9dd43b33b78",
   "metadata": {},
   "outputs": [
    {
     "name": "stdout",
     "output_type": "stream",
     "text": [
      "a의 평균 점수는 50.60점입니다.\n"
     ]
    }
   ],
   "source": [
    "calculate_average(\"a\", 85, 40, 60,34,34)"
   ]
  },
  {
   "cell_type": "code",
   "execution_count": 168,
   "id": "fa6b2d4f-8eb7-41f0-9f14-2dfdac8c99f3",
   "metadata": {},
   "outputs": [
    {
     "name": "stdout",
     "output_type": "stream",
     "text": [
      "b의 평균 점수는 62.50점입니다.\n"
     ]
    }
   ],
   "source": [
    "calculate_average(\"b\", 85, 40)"
   ]
  },
  {
   "cell_type": "markdown",
   "id": "3ddbeb8b-0122-4494-8e9b-bf3dba4e621e",
   "metadata": {},
   "source": [
    "## 키워드 인수확인 예제\n",
    "- 학생의 이름, 과목별, 점수, 그리고 학년을 받아 학새의 성적을 출력하는 함수\n",
    "- 고정인수 : 학생의 이름\n",
    "- 가변인수 : 여러개의 과목 점수\n",
    "- 키워드 인수 : 학년 정보\n"
   ]
  },
  {
   "cell_type": "code",
   "execution_count": 171,
   "id": "d6c7dbc5-0a0a-49b2-ad3a-ca831b95cd0b",
   "metadata": {},
   "outputs": [
    {
     "name": "stdout",
     "output_type": "stream",
     "text": [
      "학생 이름: Alice\n",
      "평균 점수: 88.33\n",
      "grade: 2학년\n",
      "school: Seoul High School\n",
      "\n",
      "\n",
      "학생 이름: Bob\n",
      "평균 점수: 80.75\n",
      "grade: 3학년\n",
      "school: Busan High School\n",
      "hobby: 축구\n",
      "\n",
      "\n",
      "학생 이름: Charlie\n",
      "점수를 입력하지 않았습니다.\n",
      "grade: 1학년\n"
     ]
    }
   ],
   "source": [
    "# def student_report(name,*args,**kwargs):\n",
    "def student_report(name, *scores, **details): # 스코어는 튜블 디테일은 딕션으로 나\n",
    "    print(f\"학생 이름: {name}\")\n",
    "\n",
    "    # 점수가 입력된 경우에만 평균을 계산\n",
    "    if scores:\n",
    "        average_score = sum(scores) / len(scores)\n",
    "        print(f\"평균 점수: {average_score:.2f}\")\n",
    "    else:\n",
    "        print(\"점수를 입력하지 않았습니다.\")\n",
    "\n",
    "    # 키워드 인수로 전달된 추가 정보를 출력\n",
    "    for key, value in details.items():\n",
    "        print(f\"{key}: {value}\")\n",
    "\n",
    "# 함수 호출 예제\n",
    "student_report(\"Alice\", 88, 92, 85, grade=\"2학년\", school=\"Seoul High School\")\n",
    "print(\"\\n\")\n",
    "student_report(\"Bob\", 75, 80, 78, 90, grade=\"3학년\", school=\"Busan High School\", hobby=\"축구\")\n",
    "print(\"\\n\")\n",
    "student_report(\"Charlie\", grade=\"1학년\")"
   ]
  },
  {
   "cell_type": "markdown",
   "id": "f84e0e0b-6f6b-43aa-8bb4-7baac24ca67f",
   "metadata": {},
   "source": [
    "# 람다(lambda)함수"
   ]
  },
  {
   "cell_type": "code",
   "execution_count": 175,
   "id": "bfa1cea0-a52e-4723-9f75-a600b9ed60f8",
   "metadata": {},
   "outputs": [
    {
     "data": {
      "text/plain": [
       "25"
      ]
     },
     "execution_count": 175,
     "metadata": {},
     "output_type": "execute_result"
    }
   ],
   "source": [
    "(lambda x : x **2)(5)"
   ]
  },
  {
   "cell_type": "code",
   "execution_count": 177,
   "id": "962d1bdf-7c90-4716-b050-076a62fc40fa",
   "metadata": {},
   "outputs": [
    {
     "data": {
      "text/plain": [
       "4"
      ]
     },
     "execution_count": 177,
     "metadata": {},
     "output_type": "execute_result"
    }
   ],
   "source": [
    "mysquare = lambda x : x**2\n",
    "mysquare(2)"
   ]
  },
  {
   "cell_type": "code",
   "execution_count": 178,
   "id": "6d8a4b23-f242-45b7-b82d-e50b745c4fa4",
   "metadata": {},
   "outputs": [
    {
     "data": {
      "text/plain": [
       "19"
      ]
     },
     "execution_count": 178,
     "metadata": {},
     "output_type": "execute_result"
    }
   ],
   "source": [
    "samplefunc = lambda x, y, z : x**2 + 3 * y * z\n",
    "samplefunc(1, 2, 3)"
   ]
  },
  {
   "cell_type": "markdown",
   "id": "3f47a9f1-e2d6-4649-acbf-b359b5605779",
   "metadata": {},
   "source": [
    "# Context Manger , Decorator\n",
    "- 클로저 Closure\n",
    "  + 함수 안에 또 다른 함수 생성\n"
   ]
  },
  {
   "cell_type": "code",
   "execution_count": 179,
   "id": "503e60a6-87d9-4acc-9ad5-afc20b13005f",
   "metadata": {},
   "outputs": [
    {
     "name": "stdout",
     "output_type": "stream",
     "text": [
      "Function 'slow_function' executed in 2.0006 seconds\n"
     ]
    },
    {
     "data": {
      "text/plain": [
       "'Finished'"
      ]
     },
     "execution_count": 179,
     "metadata": {},
     "output_type": "execute_result"
    }
   ],
   "source": [
    "import time\n",
    "\n",
    "def time_decorator(func):\n",
    "    def wrapper(*args, **kwargs):\n",
    "        start_time = time.time()\n",
    "        result = func(*args, **kwargs)\n",
    "        end_time = time.time()\n",
    "        print(f\"Function '{func.__name__}' executed in {end_time - start_time:.4f} seconds\")\n",
    "        return result\n",
    "    return wrapper #여기까지 코드가 돌아가는 시간을 체크하는 함수\n",
    "\n",
    "@time_decorator # 골뱅이를 써서 호출을 한것임 이거 안쓰면 그냥 리턴값만 나옴\n",
    "def slow_function():\n",
    "    time.sleep(2)\n",
    "    return \"Finished\"\n",
    "\n",
    "# 사용 예시\n",
    "slow_function()"
   ]
  },
  {
   "cell_type": "markdown",
   "id": "b5c1339c-f73c-40f4-8fe7-c9adbf1227a3",
   "metadata": {},
   "source": [
    "# 클래스 왕기초"
   ]
  },
  {
   "cell_type": "code",
   "execution_count": 204,
   "id": "29ae62a3-f74c-4a05-8854-0be6899db45c",
   "metadata": {},
   "outputs": [],
   "source": [
    "class 책: \n",
    "    title = None         # 속성\n",
    "    author = None        # 속성\n",
    "    pages = 0            # 속성\n",
    "    price = 0            # 속성\n",
    "    discount = 0         # 속성\n",
    "\n",
    "    def 읽는시간(self, reading_speed = 30):\n",
    "        return round(self.pages / reading_speed, 1)"
   ]
  },
  {
   "cell_type": "code",
   "execution_count": 207,
   "id": "150e0794-1602-40b6-935d-e9822fd78d6b",
   "metadata": {},
   "outputs": [
    {
     "name": "stdout",
     "output_type": "stream",
     "text": [
      "Streamlit Evan\n",
      "18.7\n"
     ]
    }
   ],
   "source": [
    "# 인스턴스 생성\n",
    "책01호 = 책()\n",
    "책01호.title = \"Streamlit\"\n",
    "책01호.author = \"Evan\"\n",
    "책01호.pages = 560\n",
    "책01호.price = 40000\n",
    "책01호.discount = 10\n",
    "\n",
    "print(책01호.title, 책01호.author)\n",
    "출력값 = 책01호.읽는시간()\n",
    "print(출력값)"
   ]
  },
  {
   "cell_type": "code",
   "execution_count": 206,
   "id": "24ef0298-7bc7-4139-a311-cffa50d5b7f2",
   "metadata": {},
   "outputs": [
    {
     "name": "stdout",
     "output_type": "stream",
     "text": [
      "Streamlit Evan\n",
      "112.0\n"
     ]
    }
   ],
   "source": [
    "print(책01호.title, 책01호.author)\n",
    "출력값 = 책01호.읽는시간(reading_speed = 5)\n",
    "print(출력값)"
   ]
  },
  {
   "cell_type": "markdown",
   "id": "00e7c6e4-17f4-4e32-8aeb-ff6dda3899c3",
   "metadata": {},
   "source": [
    "## 코드 업데이트"
   ]
  },
  {
   "cell_type": "code",
   "execution_count": 215,
   "id": "368adb2b-5117-410d-9203-13d53f90d53e",
   "metadata": {},
   "outputs": [],
   "source": [
    "class 책():\n",
    "    # initialize : 초기화\n",
    "    def __init__(self, title, author, pages, price, discount_rate=0):\n",
    "        self.title = title # 책의 제목\n",
    "        self.author = author \n",
    "        self.pages = pages\n",
    "        self.price = price\n",
    "        self.discount_rate = discount_rate\n",
    "        \n",
    "    def reading_time(self, reading_speed = 30):\n",
    "        return round(self.pages / reading_speed, 1)\n",
    "\n",
    "    def apply_discount(self):\n",
    "        return self.price * (1 - self.discount_rate)"
   ]
  },
  {
   "cell_type": "code",
   "execution_count": 216,
   "id": "6905031a-037d-494a-acdc-119b3eee5807",
   "metadata": {},
   "outputs": [
    {
     "data": {
      "text/plain": [
       "('샘플', '샘플2')"
      ]
     },
     "execution_count": 216,
     "metadata": {},
     "output_type": "execute_result"
    }
   ],
   "source": [
    "책01호 = 책(\"샘플\", \"Evan\", 300, 20000, 0.5)\n",
    "책02호 = 책(\"샘플2\", \"Evan1\", 400, 20000, 0.1)\n",
    "책03호 = 책(\"샘플3\", \"Evan2\", 500, 20000, 0.1)\n",
    "책04호 = 책(\"샘플4\", \"Eva3\", 600, 20000, 0.1)\n",
    "책01호.title, 책02호.title"
   ]
  },
  {
   "cell_type": "code",
   "execution_count": 218,
   "id": "6f250902-6f8a-491b-b711-e6175df70724",
   "metadata": {},
   "outputs": [
    {
     "data": {
      "text/plain": [
       "10.0"
      ]
     },
     "execution_count": 218,
     "metadata": {},
     "output_type": "execute_result"
    }
   ],
   "source": [
    "책01호 = 책(\"샘플\", \"Evan\", 300, 20000, 0.1)\n",
    "책01호.reading_time()"
   ]
  },
  {
   "cell_type": "code",
   "execution_count": 225,
   "id": "060dc1a8-3cc1-4d48-8666-8d45f58c4094",
   "metadata": {
    "scrolled": true
   },
   "outputs": [
    {
     "ename": "SyntaxError",
     "evalue": "invalid syntax. Perhaps you forgot a comma? (1317009105.py, line 1)",
     "output_type": "error",
     "traceback": [
      "\u001b[1;36m  Cell \u001b[1;32mIn[225], line 1\u001b[1;36m\u001b[0m\n\u001b[1;33m    print('\"Python is v'er'y easy.\" he says.')\u001b[0m\n\u001b[1;37m          ^\u001b[0m\n\u001b[1;31mSyntaxError\u001b[0m\u001b[1;31m:\u001b[0m invalid syntax. Perhaps you forgot a comma?\n"
     ]
    }
   ],
   "source": [
    "print('\"Python is very easy.\" he says.')"
   ]
  },
  {
   "cell_type": "code",
   "execution_count": 242,
   "id": "c49383bb-f947-454e-a7f8-50369f329461",
   "metadata": {},
   "outputs": [],
   "source": [
    "multiline = \"Life is too short You need python\"\n"
   ]
  },
  {
   "cell_type": "code",
   "execution_count": 255,
   "id": "db9e4ff5-62ca-4fb6-9c92-7367c5125ab4",
   "metadata": {},
   "outputs": [
    {
     "name": "stdout",
     "output_type": "stream",
     "text": [
      "\n",
      "Life is too shortYou \n",
      "need python\n",
      "\n"
     ]
    }
   ],
   "source": [
    " multiline='''\n",
    "Life is too shortYou \n",
    "need python\n",
    "'''\n",
    "print(multiline)"
   ]
  }
 ],
 "metadata": {
  "kernelspec": {
   "display_name": "Python 3 (ipykernel)",
   "language": "python",
   "name": "python3"
  },
  "language_info": {
   "codemirror_mode": {
    "name": "ipython",
    "version": 3
   },
   "file_extension": ".py",
   "mimetype": "text/x-python",
   "name": "python",
   "nbconvert_exporter": "python",
   "pygments_lexer": "ipython3",
   "version": "3.12.6"
  }
 },
 "nbformat": 4,
 "nbformat_minor": 5
}
